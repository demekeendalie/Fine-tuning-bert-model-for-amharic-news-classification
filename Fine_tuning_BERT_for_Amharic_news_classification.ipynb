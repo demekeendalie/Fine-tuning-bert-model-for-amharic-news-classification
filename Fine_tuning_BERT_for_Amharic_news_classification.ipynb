{
  "cells": [
    {
      "cell_type": "markdown",
      "metadata": {
        "id": "view-in-github",
        "colab_type": "text"
      },
      "source": [
        "<a href=\"https://colab.research.google.com/github/demekeendalie/Fine-tuning-bert-model-for-amharic-news-classification/blob/main/Fine_tuning_BERT_for_Amharic_news_classification.ipynb\" target=\"_parent\"><img src=\"https://colab.research.google.com/assets/colab-badge.svg\" alt=\"Open In Colab\"/></a>"
      ]
    },
    {
      "cell_type": "code",
      "execution_count": 122,
      "metadata": {
        "id": "My-hxiBonu0b"
      },
      "outputs": [],
      "source": [
        "import pandas as pd\n",
        "import numpy as np\n",
        "import tensorflow as tf\n"
      ]
    },
    {
      "cell_type": "code",
      "execution_count": 123,
      "metadata": {
        "colab": {
          "base_uri": "https://localhost:8080/"
        },
        "id": "IyWKvmnZoO65",
        "outputId": "03bf87e3-340d-4d93-84b8-bfeda50602be"
      },
      "outputs": [
        {
          "output_type": "stream",
          "name": "stdout",
          "text": [
            "Drive already mounted at /content/drive; to attempt to forcibly remount, call drive.mount(\"/content/drive\", force_remount=True).\n"
          ]
        }
      ],
      "source": [
        "from google.colab import drive\n",
        "drive.mount('/content/drive')"
      ]
    },
    {
      "cell_type": "code",
      "execution_count": 124,
      "metadata": {
        "id": "5iIPewanpCAq"
      },
      "outputs": [],
      "source": [
        "# reading the dataset from my drive using the above drive\n",
        "dataframe1 =pd.read_excel('/content/drive/My Drive/dataset1.xlsx')\n",
        "dataframe2 =pd.read_excel('/content/drive/My Drive/dataset2.xlsx')"
      ]
    },
    {
      "cell_type": "code",
      "execution_count": 125,
      "metadata": {
        "colab": {
          "base_uri": "https://localhost:8080/"
        },
        "id": "kIJDEsgl0a1o",
        "outputId": "725fe477-a9ef-4079-ffc8-489f6f63b54b"
      },
      "outputs": [
        {
          "output_type": "execute_result",
          "data": {
            "text/plain": [
              "array(['accident', 'agriculture', 'health', 'education', 'economy',\n",
              "       'politics', 'sport'], dtype=object)"
            ]
          },
          "metadata": {},
          "execution_count": 125
        }
      ],
      "source": [
        "dataframe1.category.unique()"
      ]
    },
    {
      "cell_type": "code",
      "execution_count": 126,
      "metadata": {
        "id": "YbVeMu8An-4N"
      },
      "outputs": [],
      "source": [
        "# merging the two dataframes\n",
        "frame=[dataframe1,dataframe2]\n",
        "dataframe=pd.concat(frame)"
      ]
    },
    {
      "cell_type": "code",
      "execution_count": 127,
      "metadata": {
        "colab": {
          "base_uri": "https://localhost:8080/"
        },
        "id": "SaTl0zt3y5Jb",
        "outputId": "3ba77e6a-33a6-4193-d278-93442f3872bc"
      },
      "outputs": [
        {
          "output_type": "stream",
          "name": "stdout",
          "text": [
            "                                              articles   category\n",
            "0     ግንቦት 13/2011  በተሽከርካሪ አደጋ ድንገተኛ ህክምና የተፈቀደው ሁ...   accident\n",
            "1    ሚያዝያ  25/ 2011 የሰሜን ተራሮች ብሄራዊ ፓርክን የአደጋ ስጋቶች ለ...   accident\n",
            "2    በደቡብ ወሎ ዞን ኩታበር ወረዳ ዛሬ በደረሰ የትራፊክ አደጋ በ11 ሰዎች ...   accident\n",
            "3    የህዝብ ተወካዮች ምክር ቤት አባላት ዛሬ ጠዋት የተፈናቀሉ ወገኖችን ለመጎ...   accident\n",
            "4    በባህር ዳር ከተማ ቀበሌ 05 በእሳት አደጋ ቤትና ንብረት የወደመባቸው ሰ...   accident\n",
            "..                                                 ...        ...\n",
            "695  ጎባ፤ መስከረም 16/2015 (ኢዜአ) መደ ወላቡ ዩኒቨርሲቲ ተጨማሪ 13 ...  education\n",
            "696  ባህር ዳር ሰኔ 7/2010 በአማራ ክልል ከህብረተሰቡ ከደረሱት ጥቆማዎች ...  education\n",
            "697  አዲስ አበባ ሰኔ 29/2010 የትምህርት ጥራት ጉድለት በአገሪቱ ላይ ዘር...  education\n",
            "698  አዲስ አበባ፤ መስከረም 15/ 2016 (ኢዜአ)፦ በተባበሩት አረብ ኤምሬቶ...  education\n",
            "699  አዲስ አበባ መጋቢት 4/2012(ኢዜአ) ግማሽ ቢሊዮን ብር ወጪ የተደረገበ...  education\n",
            "\n",
            "[2181 rows x 2 columns]\n"
          ]
        }
      ],
      "source": [
        "print(dataframe)"
      ]
    },
    {
      "cell_type": "code",
      "execution_count": 128,
      "metadata": {
        "colab": {
          "base_uri": "https://localhost:8080/"
        },
        "id": "w4tJMKIv_jw4",
        "outputId": "cc348dd6-60d6-4a8f-abab-741a4f51dd61"
      },
      "outputs": [
        {
          "output_type": "stream",
          "name": "stdout",
          "text": [
            "                                              articles   category  labels\n",
            "0     ግንቦት 13/2011  በተሽከርካሪ አደጋ ድንገተኛ ህክምና የተፈቀደው ሁ...   accident       0\n",
            "1    ሚያዝያ  25/ 2011 የሰሜን ተራሮች ብሄራዊ ፓርክን የአደጋ ስጋቶች ለ...   accident       0\n",
            "2    በደቡብ ወሎ ዞን ኩታበር ወረዳ ዛሬ በደረሰ የትራፊክ አደጋ በ11 ሰዎች ...   accident       0\n",
            "3    የህዝብ ተወካዮች ምክር ቤት አባላት ዛሬ ጠዋት የተፈናቀሉ ወገኖችን ለመጎ...   accident       0\n",
            "4    በባህር ዳር ከተማ ቀበሌ 05 በእሳት አደጋ ቤትና ንብረት የወደመባቸው ሰ...   accident       0\n",
            "..                                                 ...        ...     ...\n",
            "695  ጎባ፤ መስከረም 16/2015 (ኢዜአ) መደ ወላቡ ዩኒቨርሲቲ ተጨማሪ 13 ...  education       3\n",
            "696  ባህር ዳር ሰኔ 7/2010 በአማራ ክልል ከህብረተሰቡ ከደረሱት ጥቆማዎች ...  education       3\n",
            "697  አዲስ አበባ ሰኔ 29/2010 የትምህርት ጥራት ጉድለት በአገሪቱ ላይ ዘር...  education       3\n",
            "698  አዲስ አበባ፤ መስከረም 15/ 2016 (ኢዜአ)፦ በተባበሩት አረብ ኤምሬቶ...  education       3\n",
            "699  አዲስ አበባ መጋቢት 4/2012(ኢዜአ) ግማሽ ቢሊዮን ብር ወጪ የተደረገበ...  education       3\n",
            "\n",
            "[2181 rows x 3 columns]\n"
          ]
        }
      ],
      "source": [
        "# changing category to numeric\n",
        "label=pd.Categorical(dataframe['category']).codes\n",
        "label=pd.DataFrame(label)\n",
        "dataframe['labels']=pd.DataFrame(label)\n",
        "print(dataframe)"
      ]
    },
    {
      "cell_type": "code",
      "execution_count": 129,
      "metadata": {
        "id": "7MeWz9GdqHcA"
      },
      "outputs": [],
      "source": [
        "# mixing each categories and thier labels\n",
        "dataframe=dataframe.sample(frac=1)"
      ]
    },
    {
      "cell_type": "code",
      "execution_count": 130,
      "metadata": {
        "colab": {
          "base_uri": "https://localhost:8080/"
        },
        "id": "5qEDKJjqjutp",
        "outputId": "b1117f1a-c321-4563-d6e8-ac0196c38523"
      },
      "outputs": [
        {
          "output_type": "stream",
          "name": "stdout",
          "text": [
            "314.2563044475011\n"
          ]
        }
      ],
      "source": [
        "dataframe['word_len'] = dataframe['articles'].str.split().str.len()\n",
        "print(dataframe['word_len'].mean())"
      ]
    },
    {
      "cell_type": "code",
      "execution_count": 131,
      "metadata": {
        "id": "PdzL8ZMy12iu"
      },
      "outputs": [],
      "source": [
        "#number of news under each categories\n",
        "#accident=dataframe[dataframe['category']=='accident']\n",
        "#agir=dataframe[dataframe['category']=='agriculture']\n",
        "#health=dataframe[dataframe['category']=='health']\n",
        "#education=dataframe[dataframe['category']=='education']\n",
        "#economy=dataframe[dataframe['category']=='economy']\n",
        "#politics=dataframe[dataframe['category']=='politics']\n",
        "#sport=dataframe[dataframe['category']=='sport']\n",
        "#print(accident.shape)\n",
        "#print(agir.shape)\n",
        "#print(health.shape)\n",
        "#print(education.shape)\n",
        "#print(economy.shape)\n",
        "#print(politics.shape)\n",
        "#print(sport.shape)"
      ]
    },
    {
      "cell_type": "code",
      "execution_count": 132,
      "metadata": {
        "id": "tZ40OBPWrp63"
      },
      "outputs": [],
      "source": [
        "#normalizarion\n",
        "import re\n",
        "#method to normalize character level missmatch such as ጸሀይ and ፀሐይ\n",
        "def normalization(input_token):\n",
        "    rep1=re.sub('[ሃኅኃሐሓኻ]','ሀ',input_token)\n",
        "    rep2=re.sub('[ሑኁዅ]','ሁ',rep1)\n",
        "    rep3=re.sub('[ኂሒኺ]','ሂ',rep2)\n",
        "    rep4=re.sub('[ኌሔዄ]','ሄ',rep3)\n",
        "    rep5=re.sub('[ሕኅ]','ህ',rep4)\n",
        "    rep6=re.sub('[ኆሖኾ]','ሆ',rep5)\n",
        "    rep7=re.sub('[ሠ]','ሰ',rep6)\n",
        "    rep8=re.sub('[ሡ]','ሱ',rep7)\n",
        "    rep9=re.sub('[ሢ]','ሲ',rep8)\n",
        "    rep10=re.sub('[ሣ]','ሳ',rep9)\n",
        "    rep11=re.sub('[ሤ]','ሴ',rep10)\n",
        "    rep12=re.sub('[ሥ]','ስ',rep11)\n",
        "    rep13=re.sub('[ሦ]','ሶ',rep12)\n",
        "    rep14=re.sub('[ዓኣዐ]','አ',rep13)\n",
        "    rep15=re.sub('[ዑ]','ኡ',rep14)\n",
        "    rep16=re.sub('[ዒ]','ኢ',rep15)\n",
        "    rep17=re.sub('[ዔ]','ኤ',rep16)\n",
        "    rep18=re.sub('[ዕ]','እ',rep17)\n",
        "    rep19=re.sub('[ዖ]','ኦ',rep18)\n",
        "    rep20=re.sub('[ጸ]','ፀ',rep19)\n",
        "    rep21=re.sub('[ጹ]','ፁ',rep20)\n",
        "    rep22=re.sub('[ጺ]','ፂ',rep21)\n",
        "    rep23=re.sub('[ጻ]','ፃ',rep22)\n",
        "    rep24=re.sub('[ጼ]','ፄ',rep23)\n",
        "    rep25=re.sub('[ጽ]','ፅ',rep24)\n",
        "    rep26=re.sub('[ጾ]','ፆ',rep25)\n",
        "    rep27=re.sub('(ሉ[ዋአ])','ሏ',rep26)\n",
        "    rep28=re.sub('(ሙ[ዋአ])','ሟ',rep27)\n",
        "    rep29=re.sub('(ቱ[ዋአ])','ቷ',rep28)\n",
        "    rep30=re.sub('(ሩ[ዋአ])','ሯ',rep29)\n",
        "    rep31=re.sub('(ሱ[ዋአ])','ሷ',rep30)\n",
        "    rep32=re.sub('(ሹ[ዋአ])','ሿ',rep31)\n",
        "    rep33=re.sub('(ቁ[ዋአ])','ቋ',rep32)\n",
        "    rep34=re.sub('(ቡ[ዋአ])','ቧ',rep33)\n",
        "    rep35=re.sub('(ቹ[ዋአ])','ቿ',rep34)\n",
        "    rep36=re.sub('(ሁ[ዋአ])','ኋ',rep35)\n",
        "    rep37=re.sub('(ኑ[ዋአ])','ኗ',rep36)\n",
        "    rep38=re.sub('(ኙ[ዋአ])','ኟ',rep37)\n",
        "    rep39=re.sub('(ኩ[ዋአ])','ኳ',rep38)\n",
        "    rep40=re.sub('(ዙ[ዋአ])','ዟ',rep39)\n",
        "    rep41=re.sub('(ጉ[ዋአ])','ጓ',rep40)\n",
        "    rep42=re.sub('(ደ[ዋአ])','ዷ',rep41)\n",
        "    rep43=re.sub('(ጡ[ዋአ])','ጧ',rep42)\n",
        "    rep44=re.sub('(ጩ[ዋአ])','ጯ',rep43)\n",
        "    rep45=re.sub('(ጹ[ዋአ])','ጿ',rep44)\n",
        "    rep46=re.sub('(ፉ[ዋአ])','ፏ',rep45)\n",
        "    rep47=re.sub('[ቊ]','ቁ',rep46) #ቁ can be written as ቊ\n",
        "    rep48=re.sub('[ኵ]','ኩ',rep47) #ኩ can be also written as ኵ\n",
        "    return rep48"
      ]
    },
    {
      "cell_type": "code",
      "execution_count": 133,
      "metadata": {
        "id": "HMvQcXLzq9pA"
      },
      "outputs": [],
      "source": [
        "# apply normalization and special characters removal\n",
        "dataframe['articles']=dataframe['articles'].apply(lambda x: normalization(x))"
      ]
    },
    {
      "cell_type": "code",
      "execution_count": 134,
      "metadata": {
        "id": "BXSXVyLMsb30"
      },
      "outputs": [],
      "source": [
        "# special symbol removal\n",
        "dataframe['articles']=dataframe['articles'].str.replace('[^\\w\\s]','',regex=True)"
      ]
    },
    {
      "cell_type": "code",
      "execution_count": 135,
      "metadata": {
        "id": "ZaiYzzFzro2o"
      },
      "outputs": [],
      "source": [
        "# removing digits from the dataset\n",
        "dataframe['articles']=dataframe['articles'].str.replace('\\d+','',regex=True)"
      ]
    },
    {
      "cell_type": "code",
      "execution_count": 136,
      "metadata": {
        "colab": {
          "base_uri": "https://localhost:8080/"
        },
        "id": "SfCsOaSZAK1d",
        "outputId": "a4da688c-d78a-4f0c-a253-ef24a53b2b48"
      },
      "outputs": [
        {
          "output_type": "stream",
          "name": "stdout",
          "text": [
            "                                               articles     category  labels  \\\n",
            "282   በአማራ ክልል በ ሺህ  ሄክታር መሬት ላይ የዘር ብዜት ስራ እየተካሄደ ነ...  agriculture       1   \n",
            "479   በኦሮሚያ የጤና አገልግሎትን ተደራሽነትን ለማረጋገጥ የዘርፉ ቦርድ አባላት...       health       4   \n",
            "1064  መሪዎቹ የሀዋሳ ኢንዱስትሪያል ፓርክን ሊጎበኙ ነው\\n\\nሀዋሳ የካቲት  ጠ...     politics       5   \n",
            "1255  ጠቅላይ ሚኒስትር ዶክተር አብይ በደምቢዶሎ ከተማ ከህዝብ ጋር ውይይት ያደ...     politics       5   \n",
            "507   ቡርኪናፋሶ ከኢትዮጵያ የጤና ተቋማት የጤና መዋቅርና የጤና ኤክስቴንሽን መ...       health       4   \n",
            "...                                                 ...          ...     ...   \n",
            "157     ጅምላ ሻጮች ቸርቻሪዎች ቡቲኮችና የመስተንግዶ ሰጪ ተቋማት የሚሳተፉበት...      economy       0   \n",
            "1095  በአገር ግንባታ ሂደት ውስጥ ትልቁ ድርሻ የህዝብ ነው\\n\\n\\nአዲስ አበባ...     politics       5   \n",
            "1130  አዴፓ ከለዘብተኝነትና ከይሉኝታ ፖለቲካ ወጥቶ ለህግ መከበርና ለሰላም እየ...     politics       5   \n",
            "1294  በመላው ሴቶች ጨዋታ አራት የአትሌቲክስ ውድድሮች ፍፃሜ አገኙ\\n\\nጂግጂጋ...        sport       6   \n",
            "860   በሚዛን አማን ከተማ ያለአግባብ የተያዙ የንግድ ኮንቴይነሮች ለተተኪ ወጣቶ...      economy       2   \n",
            "\n",
            "      word_len  \n",
            "282        259  \n",
            "479        304  \n",
            "1064       118  \n",
            "1255       166  \n",
            "507        209  \n",
            "...        ...  \n",
            "157        247  \n",
            "1095       207  \n",
            "1130       466  \n",
            "1294       147  \n",
            "860        221  \n",
            "\n",
            "[2181 rows x 4 columns]\n"
          ]
        }
      ],
      "source": [
        "print(dataframe)"
      ]
    },
    {
      "cell_type": "code",
      "execution_count": 137,
      "metadata": {
        "colab": {
          "base_uri": "https://localhost:8080/"
        },
        "id": "uKFAl1I-xAFg",
        "outputId": "913634da-a755-493e-dc59-b18008220846"
      },
      "outputs": [
        {
          "output_type": "stream",
          "name": "stdout",
          "text": [
            "Training dataset shape:  (1569, 4)\n",
            "Validation dataset shape:  (175, 4)\n",
            "Testing dataset shape:  (437, 4)\n"
          ]
        }
      ],
      "source": [
        "# train test split\n",
        "from sklearn.model_selection import train_test_split\n",
        "train_val_df, test_dataset = train_test_split(dataframe, test_size=0.20, random_state=42)\n",
        "train_dataset, evaluation_dataset = train_test_split(train_val_df, test_size=0.10, random_state=42)\n",
        "print('Training dataset shape: ', train_dataset.shape)\n",
        "print('Validation dataset shape: ', evaluation_dataset.shape)\n",
        "print('Testing dataset shape: ', test_dataset.shape)"
      ]
    },
    {
      "cell_type": "code",
      "execution_count": 138,
      "metadata": {
        "colab": {
          "base_uri": "https://localhost:8080/"
        },
        "id": "gwPgLLRq776I",
        "outputId": "ccf240c7-4a82-4f5a-c387-7d452d07327f"
      },
      "outputs": [
        {
          "output_type": "stream",
          "name": "stdout",
          "text": [
            "                                               articles     category  labels  \\\n",
            "282   በአማራ ክልል በ ሺህ  ሄክታር መሬት ላይ የዘር ብዜት ስራ እየተካሄደ ነ...  agriculture       1   \n",
            "479   በኦሮሚያ የጤና አገልግሎትን ተደራሽነትን ለማረጋገጥ የዘርፉ ቦርድ አባላት...       health       4   \n",
            "1064  መሪዎቹ የሀዋሳ ኢንዱስትሪያል ፓርክን ሊጎበኙ ነው\\n\\nሀዋሳ የካቲት  ጠ...     politics       5   \n",
            "1255  ጠቅላይ ሚኒስትር ዶክተር አብይ በደምቢዶሎ ከተማ ከህዝብ ጋር ውይይት ያደ...     politics       5   \n",
            "507   ቡርኪናፋሶ ከኢትዮጵያ የጤና ተቋማት የጤና መዋቅርና የጤና ኤክስቴንሽን መ...       health       4   \n",
            "495   በጋምቤላ ክልል የወባ በሽታን አስቀድሞ ለመከላከል የመድሀኒት ርጭትና የአ...       health       4   \n",
            "416   መቀሌ ጥቅምት  ኢትዮጵያ ውስጥ በተያዘው በጀት አመት ተጨማሪ  ወረዳዎች ...       health       4   \n",
            "530   የአለም ጤና ድረጅት መረጃ እንደሚያመለክተው በአለም ላይ በየአመቱ በአማካ...       health       4   \n",
            "1071  መገናኛ ብዙሀን የቻይናአፍሪካ ግንኙነትን ይበልጥ ለማጠናከር እንደ ድልድይ...     politics       5   \n",
            "1151  \\n\\nከአስቸኳይ ጊዜ አዋጅ ኮማንድ ፖስት ሴክሬተሪያት ፅቤት የተሰጠ መግ...     politics       5   \n",
            "\n",
            "      word_len  \n",
            "282        259  \n",
            "479        304  \n",
            "1064       118  \n",
            "1255       166  \n",
            "507        209  \n",
            "495        285  \n",
            "416        261  \n",
            "530        203  \n",
            "1071       333  \n",
            "1151       253  \n"
          ]
        }
      ],
      "source": [
        "print(dataframe.head(10))"
      ]
    },
    {
      "cell_type": "code",
      "execution_count": 139,
      "metadata": {
        "id": "FR20K-H1t80x"
      },
      "outputs": [],
      "source": [
        "msk = np.random.rand(len(dataframe)) < 0.8\n",
        "train_dataset = dataframe[msk]\n",
        "test_dataset = dataframe[~msk]"
      ]
    },
    {
      "cell_type": "code",
      "execution_count": 140,
      "metadata": {
        "colab": {
          "base_uri": "https://localhost:8080/"
        },
        "id": "ICjbXhCUY2Vc",
        "outputId": "0f75ad88-a067-4c23-81fa-9e39f93c2834"
      },
      "outputs": [
        {
          "output_type": "stream",
          "name": "stdout",
          "text": [
            "Requirement already satisfied: datasets in /usr/local/lib/python3.10/dist-packages (3.1.0)\n",
            "Requirement already satisfied: filelock in /usr/local/lib/python3.10/dist-packages (from datasets) (3.16.1)\n",
            "Requirement already satisfied: numpy>=1.17 in /usr/local/lib/python3.10/dist-packages (from datasets) (1.26.4)\n",
            "Requirement already satisfied: pyarrow>=15.0.0 in /usr/local/lib/python3.10/dist-packages (from datasets) (17.0.0)\n",
            "Requirement already satisfied: dill<0.3.9,>=0.3.0 in /usr/local/lib/python3.10/dist-packages (from datasets) (0.3.8)\n",
            "Requirement already satisfied: pandas in /usr/local/lib/python3.10/dist-packages (from datasets) (2.2.2)\n",
            "Requirement already satisfied: requests>=2.32.2 in /usr/local/lib/python3.10/dist-packages (from datasets) (2.32.3)\n",
            "Requirement already satisfied: tqdm>=4.66.3 in /usr/local/lib/python3.10/dist-packages (from datasets) (4.66.6)\n",
            "Requirement already satisfied: xxhash in /usr/local/lib/python3.10/dist-packages (from datasets) (3.5.0)\n",
            "Requirement already satisfied: multiprocess<0.70.17 in /usr/local/lib/python3.10/dist-packages (from datasets) (0.70.16)\n",
            "Requirement already satisfied: fsspec<=2024.9.0,>=2023.1.0 in /usr/local/lib/python3.10/dist-packages (from fsspec[http]<=2024.9.0,>=2023.1.0->datasets) (2024.9.0)\n",
            "Requirement already satisfied: aiohttp in /usr/local/lib/python3.10/dist-packages (from datasets) (3.10.10)\n",
            "Requirement already satisfied: huggingface-hub>=0.23.0 in /usr/local/lib/python3.10/dist-packages (from datasets) (0.24.7)\n",
            "Requirement already satisfied: packaging in /usr/local/lib/python3.10/dist-packages (from datasets) (24.1)\n",
            "Requirement already satisfied: pyyaml>=5.1 in /usr/local/lib/python3.10/dist-packages (from datasets) (6.0.2)\n",
            "Requirement already satisfied: aiohappyeyeballs>=2.3.0 in /usr/local/lib/python3.10/dist-packages (from aiohttp->datasets) (2.4.3)\n",
            "Requirement already satisfied: aiosignal>=1.1.2 in /usr/local/lib/python3.10/dist-packages (from aiohttp->datasets) (1.3.1)\n",
            "Requirement already satisfied: attrs>=17.3.0 in /usr/local/lib/python3.10/dist-packages (from aiohttp->datasets) (24.2.0)\n",
            "Requirement already satisfied: frozenlist>=1.1.1 in /usr/local/lib/python3.10/dist-packages (from aiohttp->datasets) (1.5.0)\n",
            "Requirement already satisfied: multidict<7.0,>=4.5 in /usr/local/lib/python3.10/dist-packages (from aiohttp->datasets) (6.1.0)\n",
            "Requirement already satisfied: yarl<2.0,>=1.12.0 in /usr/local/lib/python3.10/dist-packages (from aiohttp->datasets) (1.17.0)\n",
            "Requirement already satisfied: async-timeout<5.0,>=4.0 in /usr/local/lib/python3.10/dist-packages (from aiohttp->datasets) (4.0.3)\n",
            "Requirement already satisfied: typing-extensions>=3.7.4.3 in /usr/local/lib/python3.10/dist-packages (from huggingface-hub>=0.23.0->datasets) (4.12.2)\n",
            "Requirement already satisfied: charset-normalizer<4,>=2 in /usr/local/lib/python3.10/dist-packages (from requests>=2.32.2->datasets) (3.4.0)\n",
            "Requirement already satisfied: idna<4,>=2.5 in /usr/local/lib/python3.10/dist-packages (from requests>=2.32.2->datasets) (3.10)\n",
            "Requirement already satisfied: urllib3<3,>=1.21.1 in /usr/local/lib/python3.10/dist-packages (from requests>=2.32.2->datasets) (2.2.3)\n",
            "Requirement already satisfied: certifi>=2017.4.17 in /usr/local/lib/python3.10/dist-packages (from requests>=2.32.2->datasets) (2024.8.30)\n",
            "Requirement already satisfied: python-dateutil>=2.8.2 in /usr/local/lib/python3.10/dist-packages (from pandas->datasets) (2.8.2)\n",
            "Requirement already satisfied: pytz>=2020.1 in /usr/local/lib/python3.10/dist-packages (from pandas->datasets) (2024.2)\n",
            "Requirement already satisfied: tzdata>=2022.7 in /usr/local/lib/python3.10/dist-packages (from pandas->datasets) (2024.2)\n",
            "Requirement already satisfied: six>=1.5 in /usr/local/lib/python3.10/dist-packages (from python-dateutil>=2.8.2->pandas->datasets) (1.16.0)\n",
            "Requirement already satisfied: propcache>=0.2.0 in /usr/local/lib/python3.10/dist-packages (from yarl<2.0,>=1.12.0->aiohttp->datasets) (0.2.0)\n"
          ]
        }
      ],
      "source": [
        "!pip install datasets"
      ]
    },
    {
      "cell_type": "code",
      "execution_count": 141,
      "metadata": {
        "id": "b82LS7YFYrIt"
      },
      "outputs": [],
      "source": [
        "from datasets import Dataset"
      ]
    },
    {
      "cell_type": "code",
      "execution_count": 142,
      "metadata": {
        "id": "YTy_1jvXzHI0"
      },
      "outputs": [],
      "source": [
        "#convert format of the dataset to HuggingFace Dataset from Pandas DataFrame\n",
        "test_dataset=Dataset.from_pandas(test_dataset)\n"
      ]
    },
    {
      "cell_type": "code",
      "execution_count": 143,
      "metadata": {
        "id": "6URqeXoyZM-l"
      },
      "outputs": [],
      "source": [
        "#convert the format of the dataset to HuggingFace Dataset from Pandas DataFrame\n",
        "train_dataset=Dataset.from_pandas(train_dataset)"
      ]
    },
    {
      "cell_type": "code",
      "execution_count": 144,
      "metadata": {
        "id": "-zTOH16jZdvj"
      },
      "outputs": [],
      "source": [
        "#convert the format of the dataset to HuggingFace Dataset from Pandas DataFrame\n",
        "evaluation_dataset=Dataset.from_pandas(evaluation_dataset)"
      ]
    },
    {
      "cell_type": "code",
      "execution_count": 145,
      "metadata": {
        "colab": {
          "base_uri": "https://localhost:8080/"
        },
        "id": "VuTwLGIvZfyQ",
        "outputId": "8e7c716b-0dc7-4be5-8e70-0effb5fe8f52"
      },
      "outputs": [
        {
          "output_type": "execute_result",
          "data": {
            "text/plain": [
              "Dataset({\n",
              "    features: ['articles', 'category', 'labels', 'word_len', '__index_level_0__'],\n",
              "    num_rows: 427\n",
              "})"
            ]
          },
          "metadata": {},
          "execution_count": 145
        }
      ],
      "source": [
        "#preview of the dataset after conversion\n",
        "(test_dataset)"
      ]
    },
    {
      "cell_type": "code",
      "execution_count": 146,
      "metadata": {
        "colab": {
          "base_uri": "https://localhost:8080/"
        },
        "id": "Y3443EDnvNVr",
        "outputId": "6081e86e-6be9-4b52-fa78-9a8beea39fc5"
      },
      "outputs": [
        {
          "output_type": "stream",
          "name": "stdout",
          "text": [
            "[1, 5, 4, 5, 5, 4, 1, 5, 3, 5, 5, 0, 1, 1, 3, 0, 0, 3, 4, 4, 6, 2, 6, 0, 6, 1, 1, 1, 0, 6, 2, 0, 0, 5, 1, 1, 6, 4, 6, 5, 6, 3, 2, 6, 1, 3, 6, 4, 6, 1, 0, 1, 4, 5, 5, 2, 1, 5, 1, 5, 6, 2, 4, 4, 0, 0, 2, 3, 0, 2, 4, 6, 4, 2, 1, 3, 4, 4, 4, 1, 0, 0, 4, 3, 1, 2, 2, 2, 1, 4, 0, 2, 3, 1, 3, 1, 1, 4, 1, 5, 3, 4, 2, 4, 2, 3, 1, 6, 0, 1, 0, 6, 1, 3, 0, 1, 1, 0, 5, 4, 6, 4, 3, 4, 0, 0, 1, 2, 1, 4, 2, 4, 1, 1, 6, 3, 4, 3, 0, 0, 1, 1, 1, 5, 2, 3, 4, 6, 0, 5, 6, 5, 4, 4, 1, 5, 1, 6, 4, 6, 6, 1, 6, 2, 1, 4, 3, 4, 5, 6, 0, 4, 6, 4, 4, 2, 5, 0, 6, 0, 6, 4, 1, 0, 0, 0, 6, 1, 5, 0, 6, 5, 2, 0, 0, 4, 0, 4, 4, 0, 5, 0, 6, 6, 1, 2, 1, 2, 3, 3, 0, 3, 0, 6, 3, 5, 4, 0, 4, 3, 3, 0, 1, 1, 0, 0, 4, 1, 5, 0, 0, 1, 4, 1, 4, 3, 0, 0, 1, 6, 2, 0, 3, 1, 0, 1, 0, 3, 5, 0, 4, 4, 6, 4, 2, 5, 1, 1, 4, 6, 0, 3, 5, 4, 2, 1, 0, 3, 6, 1, 1, 4, 0, 0, 1, 0, 0, 2, 2, 4, 4, 5, 0, 0, 2, 1, 2, 2, 1, 0, 1, 5, 2, 2, 6, 0, 0, 5, 4, 2, 4, 1, 3, 4, 5, 0, 0, 4, 1, 1, 0, 6, 0, 0, 3, 3, 4, 2, 5, 5, 3, 0, 2, 3, 2, 4, 5, 5, 0, 5, 4, 2, 3, 3, 1, 0, 6, 3, 5, 4, 4, 2, 2, 6, 1, 1, 4, 5, 2, 4, 6, 4, 5, 0, 5, 4, 0, 3, 1, 2, 0, 3, 1, 3, 5, 0, 1, 2, 1, 4, 2, 4, 1, 2, 4, 5, 2, 6, 6, 1, 3, 3, 2, 1, 4, 0, 3, 2, 3, 3, 0, 2, 2, 1, 0, 3, 1, 4, 4, 0, 1, 1, 1, 6, 3, 0, 4, 4, 2, 0, 3, 1, 0, 4, 2, 2, 6, 4, 4, 0, 4, 3, 0, 5, 3, 5, 5]\n"
          ]
        }
      ],
      "source": [
        "print(test_dataset['labels'])"
      ]
    },
    {
      "cell_type": "code",
      "execution_count": 147,
      "metadata": {
        "colab": {
          "base_uri": "https://localhost:8080/"
        },
        "id": "8_t8Yu8Xvtcn",
        "outputId": "706ec5ae-e061-40e3-d250-1b7beb4adf44"
      },
      "outputs": [
        {
          "output_type": "execute_result",
          "data": {
            "text/plain": [
              "Dataset({\n",
              "    features: ['articles', 'category', 'labels', 'word_len', '__index_level_0__'],\n",
              "    num_rows: 1754\n",
              "})"
            ]
          },
          "metadata": {},
          "execution_count": 147
        }
      ],
      "source": [
        "(train_dataset)"
      ]
    },
    {
      "cell_type": "code",
      "execution_count": 148,
      "metadata": {
        "colab": {
          "base_uri": "https://localhost:8080/"
        },
        "id": "hje0cVtwwL-3",
        "outputId": "78b8de14-1634-46f1-f719-ec3653369ab4"
      },
      "outputs": [
        {
          "output_type": "execute_result",
          "data": {
            "text/plain": [
              "Dataset({\n",
              "    features: ['articles', 'category', 'labels', 'word_len', '__index_level_0__'],\n",
              "    num_rows: 175\n",
              "})"
            ]
          },
          "metadata": {},
          "execution_count": 148
        }
      ],
      "source": [
        "(evaluation_dataset)"
      ]
    },
    {
      "cell_type": "code",
      "execution_count": 149,
      "metadata": {
        "id": "ARf6YHrX1hH9"
      },
      "outputs": [],
      "source": [
        "#remove unnecessary column\n",
        "test_dataset=test_dataset.remove_columns(\"__index_level_0__\")\n",
        "train_dataset=train_dataset.remove_columns(\"__index_level_0__\")\n",
        "evaluation_dataset=evaluation_dataset.remove_columns(\"__index_level_0__\")"
      ]
    },
    {
      "cell_type": "code",
      "execution_count": 150,
      "metadata": {
        "id": "bbZKmJvaufy8"
      },
      "outputs": [],
      "source": [
        "#combine the train and test dataset into one datset\n",
        "import datasets\n",
        "main_dataset= datasets.DatasetDict({\n",
        "    'train': train_dataset,\n",
        "    'test': test_dataset,\n",
        "    'evaluate': evaluation_dataset\n",
        "})"
      ]
    },
    {
      "cell_type": "code",
      "execution_count": 151,
      "metadata": {
        "colab": {
          "base_uri": "https://localhost:8080/"
        },
        "id": "uYp-2NE8vN__",
        "outputId": "bddc2c0b-aa82-430f-f767-47f74f43f86e"
      },
      "outputs": [
        {
          "output_type": "execute_result",
          "data": {
            "text/plain": [
              "DatasetDict({\n",
              "    train: Dataset({\n",
              "        features: ['articles', 'category', 'labels', 'word_len'],\n",
              "        num_rows: 1754\n",
              "    })\n",
              "    test: Dataset({\n",
              "        features: ['articles', 'category', 'labels', 'word_len'],\n",
              "        num_rows: 427\n",
              "    })\n",
              "    evaluate: Dataset({\n",
              "        features: ['articles', 'category', 'labels', 'word_len'],\n",
              "        num_rows: 175\n",
              "    })\n",
              "})"
            ]
          },
          "metadata": {},
          "execution_count": 151
        }
      ],
      "source": [
        "main_dataset"
      ]
    },
    {
      "cell_type": "code",
      "execution_count": 152,
      "metadata": {
        "id": "impTGnkvK3S4"
      },
      "outputs": [],
      "source": [
        "# training and testing data size\n",
        "training_data_size = main_dataset['train'].num_rows\n",
        "testing_data_size = main_dataset['test'].num_rows\n",
        "evaluation_data_size = main_dataset['evaluate'].num_rows"
      ]
    },
    {
      "cell_type": "code",
      "source": [
        "pip install transformers -U"
      ],
      "metadata": {
        "colab": {
          "base_uri": "https://localhost:8080/"
        },
        "id": "XjEjH8adb4ve",
        "outputId": "ffae0c2d-f93c-419d-e0a1-f89602637f2f"
      },
      "execution_count": 153,
      "outputs": [
        {
          "output_type": "stream",
          "name": "stdout",
          "text": [
            "Requirement already satisfied: transformers in /usr/local/lib/python3.10/dist-packages (4.46.2)\n",
            "Requirement already satisfied: filelock in /usr/local/lib/python3.10/dist-packages (from transformers) (3.16.1)\n",
            "Requirement already satisfied: huggingface-hub<1.0,>=0.23.2 in /usr/local/lib/python3.10/dist-packages (from transformers) (0.24.7)\n",
            "Requirement already satisfied: numpy>=1.17 in /usr/local/lib/python3.10/dist-packages (from transformers) (1.26.4)\n",
            "Requirement already satisfied: packaging>=20.0 in /usr/local/lib/python3.10/dist-packages (from transformers) (24.1)\n",
            "Requirement already satisfied: pyyaml>=5.1 in /usr/local/lib/python3.10/dist-packages (from transformers) (6.0.2)\n",
            "Requirement already satisfied: regex!=2019.12.17 in /usr/local/lib/python3.10/dist-packages (from transformers) (2024.9.11)\n",
            "Requirement already satisfied: requests in /usr/local/lib/python3.10/dist-packages (from transformers) (2.32.3)\n",
            "Requirement already satisfied: safetensors>=0.4.1 in /usr/local/lib/python3.10/dist-packages (from transformers) (0.4.5)\n",
            "Requirement already satisfied: tokenizers<0.21,>=0.20 in /usr/local/lib/python3.10/dist-packages (from transformers) (0.20.3)\n",
            "Requirement already satisfied: tqdm>=4.27 in /usr/local/lib/python3.10/dist-packages (from transformers) (4.66.6)\n",
            "Requirement already satisfied: fsspec>=2023.5.0 in /usr/local/lib/python3.10/dist-packages (from huggingface-hub<1.0,>=0.23.2->transformers) (2024.9.0)\n",
            "Requirement already satisfied: typing-extensions>=3.7.4.3 in /usr/local/lib/python3.10/dist-packages (from huggingface-hub<1.0,>=0.23.2->transformers) (4.12.2)\n",
            "Requirement already satisfied: charset-normalizer<4,>=2 in /usr/local/lib/python3.10/dist-packages (from requests->transformers) (3.4.0)\n",
            "Requirement already satisfied: idna<4,>=2.5 in /usr/local/lib/python3.10/dist-packages (from requests->transformers) (3.10)\n",
            "Requirement already satisfied: urllib3<3,>=1.21.1 in /usr/local/lib/python3.10/dist-packages (from requests->transformers) (2.2.3)\n",
            "Requirement already satisfied: certifi>=2017.4.17 in /usr/local/lib/python3.10/dist-packages (from requests->transformers) (2024.8.30)\n"
          ]
        }
      ]
    },
    {
      "cell_type": "code",
      "execution_count": 154,
      "metadata": {
        "id": "1KxZq3lFm2dH"
      },
      "outputs": [],
      "source": [
        "from transformers import AutoTokenizer"
      ]
    },
    {
      "cell_type": "code",
      "execution_count": 155,
      "metadata": {
        "id": "i-8wkRmq4JxN"
      },
      "outputs": [],
      "source": [
        "#loading a tokenizer from the pretrained model\n",
        "tokenizer = AutoTokenizer.from_pretrained(\"Davlan/bert-base-multilingual-cased-finetuned-amharic\")"
      ]
    },
    {
      "cell_type": "code",
      "execution_count": 156,
      "metadata": {
        "id": "Qc_l56cba8qz"
      },
      "outputs": [],
      "source": [
        "#Have a tokenizer function that uses the tokenizer\n",
        "def tokenize_function(data):\n",
        "    return tokenizer(data[\"articles\"], padding=\"max_length\", truncation=True)"
      ]
    },
    {
      "cell_type": "code",
      "execution_count": 157,
      "metadata": {
        "colab": {
          "base_uri": "https://localhost:8080/",
          "height": 113,
          "referenced_widgets": [
            "b83b9e8138094fd687a4511fa4062dd9",
            "3e9451574b884f3488a175cd5101a53b",
            "112262fc0c8c4a00b2c0b5fe1d2a06e1",
            "a52e88ad88f34d678a91039caa42a80b",
            "f31d86b481d7460ba3934f8d864c4f9e",
            "4c7b82417287462cb80a6770d567d1ec",
            "50a11be2197c49ad93cc7cb636e86abb",
            "eb6f6bc6ea7340cd9577c6964605d985",
            "be615f03b4ae4fe69ce8a8748677cf96",
            "56cb31d6208341f0a9997384eac435bb",
            "beef4cd453de479caa15fc25c56e4260",
            "264f4280d9bb414599f9436cc3f52a92",
            "a022834cd99f41acbc7eda5cff06355c",
            "54bbe5c960ef4fe2a7c78ed339cb2b32",
            "b8d46b71ea794a389a1c0762e7c4405c",
            "7db17c4a1aad426983dfa490eaa44dd7",
            "977378ccc7844e31a772d2910447797d",
            "3dbf12db00d142f4af015e8e02b97f30",
            "56ac4763d2be4d77a143aaa6a68d133d",
            "24e8736d03134a13b6a105f7c10914d5",
            "409d3fd0df914e31913883e30de82eed",
            "7705caa59e6345259cbba367df239788",
            "3fb348910caa45e09be5b9b96caed062",
            "0246bfbb6fdb4f458630939404851df0",
            "a778e06034af4a2683ae46f325f619e4",
            "4521deb31a414692aac5e2c12b721f8c",
            "fe18b2df49ae403d99a305360c553384",
            "9b13c9a8d95541afb163e9b757268bff",
            "629696005478431c81c5d81444ac3ea3",
            "01fad56fedb447e292e0c53af800acad",
            "556467cfb2634d008870763842717297",
            "03d4640da5ec4430a53c8d2bcd054a6c",
            "71f8ad4b521c40eeb59f5252c6c240d1"
          ]
        },
        "id": "wa91pCq-bQXl",
        "outputId": "f513729c-7290-4b68-fd8b-b421037c01a8"
      },
      "outputs": [
        {
          "output_type": "display_data",
          "data": {
            "text/plain": [
              "Map:   0%|          | 0/1754 [00:00<?, ? examples/s]"
            ],
            "application/vnd.jupyter.widget-view+json": {
              "version_major": 2,
              "version_minor": 0,
              "model_id": "b83b9e8138094fd687a4511fa4062dd9"
            }
          },
          "metadata": {}
        },
        {
          "output_type": "display_data",
          "data": {
            "text/plain": [
              "Map:   0%|          | 0/427 [00:00<?, ? examples/s]"
            ],
            "application/vnd.jupyter.widget-view+json": {
              "version_major": 2,
              "version_minor": 0,
              "model_id": "264f4280d9bb414599f9436cc3f52a92"
            }
          },
          "metadata": {}
        },
        {
          "output_type": "display_data",
          "data": {
            "text/plain": [
              "Map:   0%|          | 0/175 [00:00<?, ? examples/s]"
            ],
            "application/vnd.jupyter.widget-view+json": {
              "version_major": 2,
              "version_minor": 0,
              "model_id": "3fb348910caa45e09be5b9b96caed062"
            }
          },
          "metadata": {}
        }
      ],
      "source": [
        "#Tokenize all the data using the mapping functionality\n",
        "tokenized_datasets = main_dataset.map(tokenize_function)"
      ]
    },
    {
      "cell_type": "code",
      "execution_count": 158,
      "metadata": {
        "id": "le6-VKgSbzH9"
      },
      "outputs": [],
      "source": [
        "#remove the posts column as it is no longer needed\n",
        "tokenized_datasets = tokenized_datasets.remove_columns([\"articles\"])"
      ]
    },
    {
      "cell_type": "code",
      "execution_count": 159,
      "metadata": {
        "id": "H5z34a8Ob5W1"
      },
      "outputs": [],
      "source": [
        "#import torch\n",
        "import torch\n",
        "#import Data loader from torch\n",
        "from torch.utils.data import DataLoader\n",
        "#import an optimizer\n",
        "from torch.optim import AdamW\n",
        "#import tqdm for a progress bar\n",
        "from tqdm.auto import tqdm"
      ]
    },
    {
      "cell_type": "code",
      "execution_count": 160,
      "metadata": {
        "id": "qySNkYRPcKBY"
      },
      "outputs": [],
      "source": [
        "#changing the format of the tokenized dataset to torch\n",
        "tokenized_datasets.set_format(\"torch\")"
      ]
    },
    {
      "cell_type": "code",
      "execution_count": 161,
      "metadata": {
        "id": "O-QVp6q7ceuF"
      },
      "outputs": [],
      "source": [
        "#shuffeling and selecting the needed size of dataset for training and evaluating the model\n",
        "small_train_dataset = tokenized_datasets[\"train\"].shuffle(seed=42).select(range(training_data_size))\n",
        "small_test_dataset = tokenized_datasets[\"test\"].shuffle(seed=42).select(range(testing_data_size))\n",
        "small_eval_dataset = tokenized_datasets[\"evaluate\"].shuffle(seed=42).select(range(evaluation_data_size))"
      ]
    },
    {
      "cell_type": "code",
      "execution_count": 162,
      "metadata": {
        "colab": {
          "base_uri": "https://localhost:8080/"
        },
        "id": "2ViNnQwIciUy",
        "outputId": "4a572700-cf84-401a-a544-9357e8b6ee7f"
      },
      "outputs": [
        {
          "output_type": "execute_result",
          "data": {
            "text/plain": [
              "Dataset({\n",
              "    features: ['category', 'labels', 'word_len', 'input_ids', 'token_type_ids', 'attention_mask'],\n",
              "    num_rows: 175\n",
              "})"
            ]
          },
          "metadata": {},
          "execution_count": 162
        }
      ],
      "source": [
        "# preview of the shuffeled and selected evaluation dataset\n",
        "small_eval_dataset"
      ]
    },
    {
      "cell_type": "code",
      "execution_count": 163,
      "metadata": {
        "id": "zGyiz-arcsxK"
      },
      "outputs": [],
      "source": [
        "train_dataloader = DataLoader(small_train_dataset, shuffle=True, batch_size=4)\n",
        "eval_dataloader = DataLoader(small_eval_dataset, batch_size=4)\n",
        "test_dataloader = DataLoader(small_test_dataset, batch_size=4)"
      ]
    },
    {
      "cell_type": "code",
      "execution_count": 164,
      "metadata": {
        "colab": {
          "base_uri": "https://localhost:8080/"
        },
        "id": "O5fOf7rzdE58",
        "outputId": "425bac47-1bf4-4dc8-9504-797607ec2302"
      },
      "outputs": [
        {
          "output_type": "stream",
          "name": "stderr",
          "text": [
            "Some weights of BertForSequenceClassification were not initialized from the model checkpoint at Davlan/bert-base-multilingual-cased-finetuned-amharic and are newly initialized: ['bert.pooler.dense.bias', 'bert.pooler.dense.weight', 'classifier.bias', 'classifier.weight']\n",
            "You should probably TRAIN this model on a down-stream task to be able to use it for predictions and inference.\n"
          ]
        }
      ],
      "source": [
        "#Load auto mode classifier from the pretrained model\n",
        "from transformers import AutoModelForSequenceClassification\n",
        "model = AutoModelForSequenceClassification.from_pretrained(\"Davlan/bert-base-multilingual-cased-finetuned-amharic\", num_labels=7)"
      ]
    },
    {
      "cell_type": "code",
      "execution_count": 165,
      "metadata": {
        "colab": {
          "base_uri": "https://localhost:8080/"
        },
        "id": "beOvHvp7rWo5",
        "outputId": "825c4b4a-639e-4a10-a674-c692de928a66"
      },
      "outputs": [
        {
          "output_type": "stream",
          "name": "stdout",
          "text": [
            "Training on GPU\n",
            "cuda:0\n"
          ]
        }
      ],
      "source": [
        "import torch\n",
        "\n",
        "device = torch.device(\"cpu\")\n",
        "\n",
        "if torch.cuda.is_available():\n",
        "   print(\"Training on GPU\")\n",
        "   device = torch.device(\"cuda:0\")\n",
        "print(device)"
      ]
    },
    {
      "cell_type": "code",
      "source": [
        "pip install evaluate"
      ],
      "metadata": {
        "colab": {
          "base_uri": "https://localhost:8080/"
        },
        "id": "MCmpu9QpLXDu",
        "outputId": "a34fc264-3b82-48f6-d608-27997a7a0968"
      },
      "execution_count": 166,
      "outputs": [
        {
          "output_type": "stream",
          "name": "stdout",
          "text": [
            "Requirement already satisfied: evaluate in /usr/local/lib/python3.10/dist-packages (0.4.3)\n",
            "Requirement already satisfied: datasets>=2.0.0 in /usr/local/lib/python3.10/dist-packages (from evaluate) (3.1.0)\n",
            "Requirement already satisfied: numpy>=1.17 in /usr/local/lib/python3.10/dist-packages (from evaluate) (1.26.4)\n",
            "Requirement already satisfied: dill in /usr/local/lib/python3.10/dist-packages (from evaluate) (0.3.8)\n",
            "Requirement already satisfied: pandas in /usr/local/lib/python3.10/dist-packages (from evaluate) (2.2.2)\n",
            "Requirement already satisfied: requests>=2.19.0 in /usr/local/lib/python3.10/dist-packages (from evaluate) (2.32.3)\n",
            "Requirement already satisfied: tqdm>=4.62.1 in /usr/local/lib/python3.10/dist-packages (from evaluate) (4.66.6)\n",
            "Requirement already satisfied: xxhash in /usr/local/lib/python3.10/dist-packages (from evaluate) (3.5.0)\n",
            "Requirement already satisfied: multiprocess in /usr/local/lib/python3.10/dist-packages (from evaluate) (0.70.16)\n",
            "Requirement already satisfied: fsspec>=2021.05.0 in /usr/local/lib/python3.10/dist-packages (from fsspec[http]>=2021.05.0->evaluate) (2024.9.0)\n",
            "Requirement already satisfied: huggingface-hub>=0.7.0 in /usr/local/lib/python3.10/dist-packages (from evaluate) (0.24.7)\n",
            "Requirement already satisfied: packaging in /usr/local/lib/python3.10/dist-packages (from evaluate) (24.1)\n",
            "Requirement already satisfied: filelock in /usr/local/lib/python3.10/dist-packages (from datasets>=2.0.0->evaluate) (3.16.1)\n",
            "Requirement already satisfied: pyarrow>=15.0.0 in /usr/local/lib/python3.10/dist-packages (from datasets>=2.0.0->evaluate) (17.0.0)\n",
            "Requirement already satisfied: aiohttp in /usr/local/lib/python3.10/dist-packages (from datasets>=2.0.0->evaluate) (3.10.10)\n",
            "Requirement already satisfied: pyyaml>=5.1 in /usr/local/lib/python3.10/dist-packages (from datasets>=2.0.0->evaluate) (6.0.2)\n",
            "Requirement already satisfied: typing-extensions>=3.7.4.3 in /usr/local/lib/python3.10/dist-packages (from huggingface-hub>=0.7.0->evaluate) (4.12.2)\n",
            "Requirement already satisfied: charset-normalizer<4,>=2 in /usr/local/lib/python3.10/dist-packages (from requests>=2.19.0->evaluate) (3.4.0)\n",
            "Requirement already satisfied: idna<4,>=2.5 in /usr/local/lib/python3.10/dist-packages (from requests>=2.19.0->evaluate) (3.10)\n",
            "Requirement already satisfied: urllib3<3,>=1.21.1 in /usr/local/lib/python3.10/dist-packages (from requests>=2.19.0->evaluate) (2.2.3)\n",
            "Requirement already satisfied: certifi>=2017.4.17 in /usr/local/lib/python3.10/dist-packages (from requests>=2.19.0->evaluate) (2024.8.30)\n",
            "Requirement already satisfied: python-dateutil>=2.8.2 in /usr/local/lib/python3.10/dist-packages (from pandas->evaluate) (2.8.2)\n",
            "Requirement already satisfied: pytz>=2020.1 in /usr/local/lib/python3.10/dist-packages (from pandas->evaluate) (2024.2)\n",
            "Requirement already satisfied: tzdata>=2022.7 in /usr/local/lib/python3.10/dist-packages (from pandas->evaluate) (2024.2)\n",
            "Requirement already satisfied: aiohappyeyeballs>=2.3.0 in /usr/local/lib/python3.10/dist-packages (from aiohttp->datasets>=2.0.0->evaluate) (2.4.3)\n",
            "Requirement already satisfied: aiosignal>=1.1.2 in /usr/local/lib/python3.10/dist-packages (from aiohttp->datasets>=2.0.0->evaluate) (1.3.1)\n",
            "Requirement already satisfied: attrs>=17.3.0 in /usr/local/lib/python3.10/dist-packages (from aiohttp->datasets>=2.0.0->evaluate) (24.2.0)\n",
            "Requirement already satisfied: frozenlist>=1.1.1 in /usr/local/lib/python3.10/dist-packages (from aiohttp->datasets>=2.0.0->evaluate) (1.5.0)\n",
            "Requirement already satisfied: multidict<7.0,>=4.5 in /usr/local/lib/python3.10/dist-packages (from aiohttp->datasets>=2.0.0->evaluate) (6.1.0)\n",
            "Requirement already satisfied: yarl<2.0,>=1.12.0 in /usr/local/lib/python3.10/dist-packages (from aiohttp->datasets>=2.0.0->evaluate) (1.17.0)\n",
            "Requirement already satisfied: async-timeout<5.0,>=4.0 in /usr/local/lib/python3.10/dist-packages (from aiohttp->datasets>=2.0.0->evaluate) (4.0.3)\n",
            "Requirement already satisfied: six>=1.5 in /usr/local/lib/python3.10/dist-packages (from python-dateutil>=2.8.2->pandas->evaluate) (1.16.0)\n",
            "Requirement already satisfied: propcache>=0.2.0 in /usr/local/lib/python3.10/dist-packages (from yarl<2.0,>=1.12.0->aiohttp->datasets>=2.0.0->evaluate) (0.2.0)\n"
          ]
        }
      ]
    },
    {
      "cell_type": "code",
      "execution_count": 167,
      "metadata": {
        "id": "tQ9ZVsKXdRVf"
      },
      "outputs": [],
      "source": [
        "import numpy as np\n",
        "from evaluate import load\n",
        "metric = load(\"f1\",\"accuracy\")"
      ]
    },
    {
      "cell_type": "code",
      "execution_count": 168,
      "metadata": {
        "id": "_yNQ4Lxodl5o"
      },
      "outputs": [],
      "source": [
        "\n",
        "#def compute_metrics(eval_pred):\n",
        " #   logits, labels = eval_pred\n",
        "#    predictions = np.argmax(logits, axis=-1)\n",
        " #   return metric.compute(predictions=predictions, references=labels, average=\"weighted\")"
      ]
    },
    {
      "cell_type": "code",
      "execution_count": 169,
      "metadata": {
        "colab": {
          "base_uri": "https://localhost:8080/"
        },
        "id": "nHxTNtNJf_gF",
        "outputId": "7c31105d-2622-4369-e124-3b0642a2182a"
      },
      "outputs": [
        {
          "output_type": "stream",
          "name": "stdout",
          "text": [
            "Requirement already satisfied: accelerate in /usr/local/lib/python3.10/dist-packages (1.1.1)\n",
            "Requirement already satisfied: huggingface-hub>=0.21.0 in /usr/local/lib/python3.10/dist-packages (from accelerate) (0.24.7)\n",
            "Requirement already satisfied: numpy<3.0.0,>=1.17 in /usr/local/lib/python3.10/dist-packages (from accelerate) (1.26.4)\n",
            "Requirement already satisfied: packaging>=20.0 in /usr/local/lib/python3.10/dist-packages (from accelerate) (24.1)\n",
            "Requirement already satisfied: psutil in /usr/local/lib/python3.10/dist-packages (from accelerate) (5.9.5)\n",
            "Requirement already satisfied: pyyaml in /usr/local/lib/python3.10/dist-packages (from accelerate) (6.0.2)\n",
            "Requirement already satisfied: safetensors>=0.4.3 in /usr/local/lib/python3.10/dist-packages (from accelerate) (0.4.5)\n",
            "Requirement already satisfied: torch>=1.10.0 in /usr/local/lib/python3.10/dist-packages (from accelerate) (2.5.0+cu121)\n",
            "Requirement already satisfied: filelock in /usr/local/lib/python3.10/dist-packages (from huggingface-hub>=0.21.0->accelerate) (3.16.1)\n",
            "Requirement already satisfied: fsspec>=2023.5.0 in /usr/local/lib/python3.10/dist-packages (from huggingface-hub>=0.21.0->accelerate) (2024.9.0)\n",
            "Requirement already satisfied: requests in /usr/local/lib/python3.10/dist-packages (from huggingface-hub>=0.21.0->accelerate) (2.32.3)\n",
            "Requirement already satisfied: tqdm>=4.42.1 in /usr/local/lib/python3.10/dist-packages (from huggingface-hub>=0.21.0->accelerate) (4.66.6)\n",
            "Requirement already satisfied: typing-extensions>=3.7.4.3 in /usr/local/lib/python3.10/dist-packages (from huggingface-hub>=0.21.0->accelerate) (4.12.2)\n",
            "Requirement already satisfied: networkx in /usr/local/lib/python3.10/dist-packages (from torch>=1.10.0->accelerate) (3.4.2)\n",
            "Requirement already satisfied: jinja2 in /usr/local/lib/python3.10/dist-packages (from torch>=1.10.0->accelerate) (3.1.4)\n",
            "Requirement already satisfied: sympy==1.13.1 in /usr/local/lib/python3.10/dist-packages (from torch>=1.10.0->accelerate) (1.13.1)\n",
            "Requirement already satisfied: mpmath<1.4,>=1.1.0 in /usr/local/lib/python3.10/dist-packages (from sympy==1.13.1->torch>=1.10.0->accelerate) (1.3.0)\n",
            "Requirement already satisfied: MarkupSafe>=2.0 in /usr/local/lib/python3.10/dist-packages (from jinja2->torch>=1.10.0->accelerate) (3.0.2)\n",
            "Requirement already satisfied: charset-normalizer<4,>=2 in /usr/local/lib/python3.10/dist-packages (from requests->huggingface-hub>=0.21.0->accelerate) (3.4.0)\n",
            "Requirement already satisfied: idna<4,>=2.5 in /usr/local/lib/python3.10/dist-packages (from requests->huggingface-hub>=0.21.0->accelerate) (3.10)\n",
            "Requirement already satisfied: urllib3<3,>=1.21.1 in /usr/local/lib/python3.10/dist-packages (from requests->huggingface-hub>=0.21.0->accelerate) (2.2.3)\n",
            "Requirement already satisfied: certifi>=2017.4.17 in /usr/local/lib/python3.10/dist-packages (from requests->huggingface-hub>=0.21.0->accelerate) (2024.8.30)\n",
            "Requirement already satisfied: transformers in /usr/local/lib/python3.10/dist-packages (4.46.2)\n",
            "Requirement already satisfied: filelock in /usr/local/lib/python3.10/dist-packages (from transformers) (3.16.1)\n",
            "Requirement already satisfied: huggingface-hub<1.0,>=0.23.2 in /usr/local/lib/python3.10/dist-packages (from transformers) (0.24.7)\n",
            "Requirement already satisfied: numpy>=1.17 in /usr/local/lib/python3.10/dist-packages (from transformers) (1.26.4)\n",
            "Requirement already satisfied: packaging>=20.0 in /usr/local/lib/python3.10/dist-packages (from transformers) (24.1)\n",
            "Requirement already satisfied: pyyaml>=5.1 in /usr/local/lib/python3.10/dist-packages (from transformers) (6.0.2)\n",
            "Requirement already satisfied: regex!=2019.12.17 in /usr/local/lib/python3.10/dist-packages (from transformers) (2024.9.11)\n",
            "Requirement already satisfied: requests in /usr/local/lib/python3.10/dist-packages (from transformers) (2.32.3)\n",
            "Requirement already satisfied: safetensors>=0.4.1 in /usr/local/lib/python3.10/dist-packages (from transformers) (0.4.5)\n",
            "Requirement already satisfied: tokenizers<0.21,>=0.20 in /usr/local/lib/python3.10/dist-packages (from transformers) (0.20.3)\n",
            "Requirement already satisfied: tqdm>=4.27 in /usr/local/lib/python3.10/dist-packages (from transformers) (4.66.6)\n",
            "Requirement already satisfied: fsspec>=2023.5.0 in /usr/local/lib/python3.10/dist-packages (from huggingface-hub<1.0,>=0.23.2->transformers) (2024.9.0)\n",
            "Requirement already satisfied: typing-extensions>=3.7.4.3 in /usr/local/lib/python3.10/dist-packages (from huggingface-hub<1.0,>=0.23.2->transformers) (4.12.2)\n",
            "Requirement already satisfied: charset-normalizer<4,>=2 in /usr/local/lib/python3.10/dist-packages (from requests->transformers) (3.4.0)\n",
            "Requirement already satisfied: idna<4,>=2.5 in /usr/local/lib/python3.10/dist-packages (from requests->transformers) (3.10)\n",
            "Requirement already satisfied: urllib3<3,>=1.21.1 in /usr/local/lib/python3.10/dist-packages (from requests->transformers) (2.2.3)\n",
            "Requirement already satisfied: certifi>=2017.4.17 in /usr/local/lib/python3.10/dist-packages (from requests->transformers) (2024.8.30)\n"
          ]
        }
      ],
      "source": [
        "! pip install -U accelerate\n",
        "! pip install -U transformers"
      ]
    },
    {
      "cell_type": "code",
      "execution_count": 170,
      "metadata": {
        "id": "0yUwjNCqjC1P"
      },
      "outputs": [],
      "source": [
        "# #load an optimizer\n",
        "# optimizer = AdamW(model.parameters(), lr=5e-5)\n",
        "from transformers import TrainingArguments\n",
        "\n",
        "training_args = TrainingArguments(output_dir=\"test_trainer\")"
      ]
    },
    {
      "cell_type": "code",
      "execution_count": 170,
      "metadata": {
        "id": "lj0-3deYu5gg"
      },
      "outputs": [],
      "source": []
    },
    {
      "cell_type": "code",
      "execution_count": 171,
      "metadata": {
        "colab": {
          "base_uri": "https://localhost:8080/",
          "height": 36
        },
        "id": "TTVlT1I9vqm4",
        "outputId": "1fc148a2-85c2-4b01-8bef-301bac7ab81e"
      },
      "outputs": [
        {
          "output_type": "execute_result",
          "data": {
            "text/plain": [
              "'0.34.2'"
            ],
            "application/vnd.google.colaboratory.intrinsic+json": {
              "type": "string"
            }
          },
          "metadata": {},
          "execution_count": 171
        }
      ],
      "source": [
        "import accelerate\n",
        "accelerate.__version__"
      ]
    },
    {
      "cell_type": "code",
      "execution_count": 172,
      "metadata": {
        "id": "lKqpO25FwBEa"
      },
      "outputs": [],
      "source": [
        "from transformers import TrainingArguments, Trainer\n",
        "from transformers import EarlyStoppingCallback, IntervalStrategy"
      ]
    },
    {
      "cell_type": "code",
      "execution_count": 173,
      "metadata": {
        "id": "ebJWpYe1yBPr"
      },
      "outputs": [],
      "source": [
        "def custom_metrics(eval_pred):\n",
        "    metric1 = load(\"precision\")\n",
        "    metric2 = load(\"recall\")\n",
        "    metric3 = load(\"f1\")\n",
        "    metric4 = load(\"accuracy\")\n",
        "\n",
        "    logits, labels = eval_pred\n",
        "    predictions = np.argmax(logits, axis=-1)\n",
        "\n",
        "    precision = metric1.compute(predictions=predictions, references=labels, average=\"weighted\")[\"precision\"]\n",
        "    recall = metric2.compute(predictions=predictions, references=labels, average=\"weighted\")[\"recall\"]\n",
        "    f1 = metric3.compute(predictions=predictions, references=labels, average=\"weighted\")[\"f1\"]\n",
        "    accuracy = metric4.compute(predictions=predictions, references=labels)[\"accuracy\"]\n",
        "\n",
        "    return {\"precision\": precision, \"recall\": recall, \"f1\": f1, \"accuracy\": accuracy}"
      ]
    },
    {
      "cell_type": "code",
      "execution_count": 174,
      "metadata": {
        "id": "uB2S0wyydvmG"
      },
      "outputs": [],
      "source": [
        "# #load an optimizer\n",
        "# optimizer = AdamW(model.parameters(), lr=5e-5)\n",
        "training_args = TrainingArguments(\n",
        "   f\"training_with_callbacks\",\n",
        "   eval_strategy='epoch',\n",
        "   save_strategy='epoch',\n",
        "   num_train_epochs=10,\n",
        "   learning_rate=1e-5,\n",
        "   per_device_train_batch_size=4,  # batch size per device during training\n",
        "   per_device_eval_batch_size=8,   # batch size for evaluation\n",
        "   warmup_steps=1000,                # number of warmup steps for learning rate\n",
        "   weight_decay=0.01,\n",
        "   run_name=\"Amharic news document\",# strength of weight decay\n",
        "   logging_dir='./logs',            # directory for storing logs\n",
        "   logging_steps=20,\n",
        "   load_best_model_at_end= True,\n",
        "\n",
        "   )"
      ]
    },
    {
      "cell_type": "code",
      "execution_count": 175,
      "metadata": {
        "id": "nGrZ8XQAwzz_"
      },
      "outputs": [],
      "source": [
        "trainer = Trainer(\n",
        "    model=model,\n",
        "    args=training_args,\n",
        "    train_dataset=small_train_dataset,\n",
        "    eval_dataset=small_eval_dataset,\n",
        "    compute_metrics=custom_metrics,\n",
        "    callbacks = [EarlyStoppingCallback(early_stopping_patience=10)],\n",
        ")"
      ]
    },
    {
      "cell_type": "code",
      "execution_count": 176,
      "metadata": {
        "id": "JQp_8yZE2o3O"
      },
      "outputs": [],
      "source": [
        "import torch\n",
        "torch.cuda.empty_cache()\n"
      ]
    },
    {
      "cell_type": "code",
      "execution_count": 177,
      "metadata": {
        "colab": {
          "base_uri": "https://localhost:8080/",
          "height": 817
        },
        "id": "jwv8aL2oxM9a",
        "outputId": "52073880-32ab-46c0-dc2f-7cebc6190918"
      },
      "outputs": [
        {
          "data": {
            "text/html": [
              "\n",
              "    <div>\n",
              "      \n",
              "      <progress value='4391' max='4390' style='width:300px; height:20px; vertical-align: middle;'></progress>\n",
              "      [4390/4390 35:26, Epoch 10/10]\n",
              "    </div>\n",
              "    <table border=\"1\" class=\"dataframe\">\n",
              "  <thead>\n",
              " <tr style=\"text-align: left;\">\n",
              "      <th>Epoch</th>\n",
              "      <th>Training Loss</th>\n",
              "      <th>Validation Loss</th>\n",
              "      <th>Precision</th>\n",
              "      <th>Recall</th>\n",
              "      <th>F1</th>\n",
              "      <th>Accuracy</th>\n",
              "    </tr>\n",
              "  </thead>\n",
              "  <tbody>\n",
              "    <tr>\n",
              "      <td>1</td>\n",
              "      <td>1.446100</td>\n",
              "      <td>1.218664</td>\n",
              "      <td>0.597647</td>\n",
              "      <td>0.640000</td>\n",
              "      <td>0.591622</td>\n",
              "      <td>0.640000</td>\n",
              "    </tr>\n",
              "    <tr>\n",
              "      <td>2</td>\n",
              "      <td>0.654300</td>\n",
              "      <td>0.566217</td>\n",
              "      <td>0.812275</td>\n",
              "      <td>0.805714</td>\n",
              "      <td>0.798439</td>\n",
              "      <td>0.805714</td>\n",
              "    </tr>\n",
              "    <tr>\n",
              "      <td>3</td>\n",
              "      <td>0.254100</td>\n",
              "      <td>0.358680</td>\n",
              "      <td>0.883336</td>\n",
              "      <td>0.862857</td>\n",
              "      <td>0.862664</td>\n",
              "      <td>0.862857</td>\n",
              "    </tr>\n",
              "    <tr>\n",
              "      <td>4</td>\n",
              "      <td>0.338600</td>\n",
              "      <td>0.204466</td>\n",
              "      <td>0.942883</td>\n",
              "      <td>0.937143</td>\n",
              "      <td>0.936131</td>\n",
              "      <td>0.937143</td>\n",
              "    </tr>\n",
              "    <tr>\n",
              "      <td>5</td>\n",
              "      <td>0.220500</td>\n",
              "      <td>0.144629</td>\n",
              "      <td>0.971701</td>\n",
              "      <td>0.971429</td>\n",
              "      <td>0.971453</td>\n",
              "      <td>0.971429</td>\n",
              "    </tr>\n",
              "    <tr>\n",
              "      <td>6</td>\n",
              "      <td>0.037800</td>\n",
              "      <td>0.137966</td>\n",
              "      <td>0.971690</td>\n",
              "      <td>0.971429</td>\n",
              "      <td>0.971325</td>\n",
              "      <td>0.971429</td>\n",
              "    </tr>\n",
              "    <tr>\n",
              "      <td>7</td>\n",
              "      <td>0.116500</td>\n",
              "      <td>0.155412</td>\n",
              "      <td>0.972373</td>\n",
              "      <td>0.971429</td>\n",
              "      <td>0.971631</td>\n",
              "      <td>0.971429</td>\n",
              "    </tr>\n",
              "    <tr>\n",
              "      <td>8</td>\n",
              "      <td>0.076100</td>\n",
              "      <td>0.154153</td>\n",
              "      <td>0.972456</td>\n",
              "      <td>0.971429</td>\n",
              "      <td>0.971489</td>\n",
              "      <td>0.971429</td>\n",
              "    </tr>\n",
              "    <tr>\n",
              "      <td>9</td>\n",
              "      <td>0.116000</td>\n",
              "      <td>0.167047</td>\n",
              "      <td>0.968658</td>\n",
              "      <td>0.965714</td>\n",
              "      <td>0.966355</td>\n",
              "      <td>0.965714</td>\n",
              "    </tr>\n",
              "    <tr>\n",
              "      <td>10</td>\n",
              "      <td>0.003700</td>\n",
              "      <td>0.134695</td>\n",
              "      <td>0.972456</td>\n",
              "      <td>0.971429</td>\n",
              "      <td>0.971489</td>\n",
              "      <td>0.971429</td>\n",
              "    </tr>\n",
              "  </tbody>\n",
              "</table><p>"
            ],
            "text/plain": [
              "<IPython.core.display.HTML object>"
            ]
          },
          "metadata": {},
          "output_type": "display_data"
        },
        {
          "metadata": {
            "tags": null
          },
          "name": "stderr",
          "output_type": "stream",
          "text": [
            "/usr/local/lib/python3.10/dist-packages/sklearn/metrics/_classification.py:1531: UndefinedMetricWarning: Precision is ill-defined and being set to 0.0 in labels with no predicted samples. Use `zero_division` parameter to control this behavior.\n",
            "  _warn_prf(average, modifier, f\"{metric.capitalize()} is\", len(result))\n"
          ]
        },
        {
          "output_type": "display_data",
          "data": {
            "text/plain": [
              "<IPython.core.display.HTML object>"
            ],
            "text/html": [
              "\n",
              "    <div>\n",
              "      \n",
              "      <progress value='4390' max='4390' style='width:300px; height:20px; vertical-align: middle;'></progress>\n",
              "      [4390/4390 36:05, Epoch 10/10]\n",
              "    </div>\n",
              "    <table border=\"1\" class=\"dataframe\">\n",
              "  <thead>\n",
              " <tr style=\"text-align: left;\">\n",
              "      <th>Epoch</th>\n",
              "      <th>Training Loss</th>\n",
              "      <th>Validation Loss</th>\n",
              "      <th>Precision</th>\n",
              "      <th>Recall</th>\n",
              "      <th>F1</th>\n",
              "      <th>Accuracy</th>\n",
              "    </tr>\n",
              "  </thead>\n",
              "  <tbody>\n",
              "    <tr>\n",
              "      <td>1</td>\n",
              "      <td>1.446100</td>\n",
              "      <td>1.218664</td>\n",
              "      <td>0.597647</td>\n",
              "      <td>0.640000</td>\n",
              "      <td>0.591622</td>\n",
              "      <td>0.640000</td>\n",
              "    </tr>\n",
              "    <tr>\n",
              "      <td>2</td>\n",
              "      <td>0.654300</td>\n",
              "      <td>0.566217</td>\n",
              "      <td>0.812275</td>\n",
              "      <td>0.805714</td>\n",
              "      <td>0.798439</td>\n",
              "      <td>0.805714</td>\n",
              "    </tr>\n",
              "    <tr>\n",
              "      <td>3</td>\n",
              "      <td>0.254100</td>\n",
              "      <td>0.358680</td>\n",
              "      <td>0.883336</td>\n",
              "      <td>0.862857</td>\n",
              "      <td>0.862664</td>\n",
              "      <td>0.862857</td>\n",
              "    </tr>\n",
              "    <tr>\n",
              "      <td>4</td>\n",
              "      <td>0.338600</td>\n",
              "      <td>0.204466</td>\n",
              "      <td>0.942883</td>\n",
              "      <td>0.937143</td>\n",
              "      <td>0.936131</td>\n",
              "      <td>0.937143</td>\n",
              "    </tr>\n",
              "    <tr>\n",
              "      <td>5</td>\n",
              "      <td>0.220500</td>\n",
              "      <td>0.144629</td>\n",
              "      <td>0.971701</td>\n",
              "      <td>0.971429</td>\n",
              "      <td>0.971453</td>\n",
              "      <td>0.971429</td>\n",
              "    </tr>\n",
              "    <tr>\n",
              "      <td>6</td>\n",
              "      <td>0.037800</td>\n",
              "      <td>0.137966</td>\n",
              "      <td>0.971690</td>\n",
              "      <td>0.971429</td>\n",
              "      <td>0.971325</td>\n",
              "      <td>0.971429</td>\n",
              "    </tr>\n",
              "    <tr>\n",
              "      <td>7</td>\n",
              "      <td>0.116500</td>\n",
              "      <td>0.155412</td>\n",
              "      <td>0.972373</td>\n",
              "      <td>0.971429</td>\n",
              "      <td>0.971631</td>\n",
              "      <td>0.971429</td>\n",
              "    </tr>\n",
              "    <tr>\n",
              "      <td>8</td>\n",
              "      <td>0.076100</td>\n",
              "      <td>0.154153</td>\n",
              "      <td>0.972456</td>\n",
              "      <td>0.971429</td>\n",
              "      <td>0.971489</td>\n",
              "      <td>0.971429</td>\n",
              "    </tr>\n",
              "    <tr>\n",
              "      <td>9</td>\n",
              "      <td>0.116000</td>\n",
              "      <td>0.167047</td>\n",
              "      <td>0.968658</td>\n",
              "      <td>0.965714</td>\n",
              "      <td>0.966355</td>\n",
              "      <td>0.965714</td>\n",
              "    </tr>\n",
              "    <tr>\n",
              "      <td>10</td>\n",
              "      <td>0.003700</td>\n",
              "      <td>0.134695</td>\n",
              "      <td>0.972456</td>\n",
              "      <td>0.971429</td>\n",
              "      <td>0.971489</td>\n",
              "      <td>0.971429</td>\n",
              "    </tr>\n",
              "  </tbody>\n",
              "</table><p>"
            ]
          },
          "metadata": {}
        }
      ],
      "source": [
        " train_result=trainer.train()"
      ]
    },
    {
      "cell_type": "code",
      "source": [
        "pip install --upgrade transformers"
      ],
      "metadata": {
        "colab": {
          "base_uri": "https://localhost:8080/"
        },
        "id": "nbTEqd3O1NVa",
        "outputId": "47d2fb53-6b41-4e05-983a-9783a39459c8"
      },
      "execution_count": 178,
      "outputs": [
        {
          "output_type": "stream",
          "name": "stdout",
          "text": [
            "Requirement already satisfied: transformers in /usr/local/lib/python3.10/dist-packages (4.46.2)\n",
            "Requirement already satisfied: filelock in /usr/local/lib/python3.10/dist-packages (from transformers) (3.16.1)\n",
            "Requirement already satisfied: huggingface-hub<1.0,>=0.23.2 in /usr/local/lib/python3.10/dist-packages (from transformers) (0.24.7)\n",
            "Requirement already satisfied: numpy>=1.17 in /usr/local/lib/python3.10/dist-packages (from transformers) (1.26.4)\n",
            "Requirement already satisfied: packaging>=20.0 in /usr/local/lib/python3.10/dist-packages (from transformers) (24.1)\n",
            "Requirement already satisfied: pyyaml>=5.1 in /usr/local/lib/python3.10/dist-packages (from transformers) (6.0.2)\n",
            "Requirement already satisfied: regex!=2019.12.17 in /usr/local/lib/python3.10/dist-packages (from transformers) (2024.9.11)\n",
            "Requirement already satisfied: requests in /usr/local/lib/python3.10/dist-packages (from transformers) (2.32.3)\n",
            "Requirement already satisfied: safetensors>=0.4.1 in /usr/local/lib/python3.10/dist-packages (from transformers) (0.4.5)\n",
            "Requirement already satisfied: tokenizers<0.21,>=0.20 in /usr/local/lib/python3.10/dist-packages (from transformers) (0.20.3)\n",
            "Requirement already satisfied: tqdm>=4.27 in /usr/local/lib/python3.10/dist-packages (from transformers) (4.66.6)\n",
            "Requirement already satisfied: fsspec>=2023.5.0 in /usr/local/lib/python3.10/dist-packages (from huggingface-hub<1.0,>=0.23.2->transformers) (2024.9.0)\n",
            "Requirement already satisfied: typing-extensions>=3.7.4.3 in /usr/local/lib/python3.10/dist-packages (from huggingface-hub<1.0,>=0.23.2->transformers) (4.12.2)\n",
            "Requirement already satisfied: charset-normalizer<4,>=2 in /usr/local/lib/python3.10/dist-packages (from requests->transformers) (3.4.0)\n",
            "Requirement already satisfied: idna<4,>=2.5 in /usr/local/lib/python3.10/dist-packages (from requests->transformers) (3.10)\n",
            "Requirement already satisfied: urllib3<3,>=1.21.1 in /usr/local/lib/python3.10/dist-packages (from requests->transformers) (2.2.3)\n",
            "Requirement already satisfied: certifi>=2017.4.17 in /usr/local/lib/python3.10/dist-packages (from requests->transformers) (2024.8.30)\n"
          ]
        }
      ]
    },
    {
      "cell_type": "code",
      "source": [
        "import matplotlib.pyplot as plt"
      ],
      "metadata": {
        "id": "1jVLtqycV-m0"
      },
      "execution_count": 179,
      "outputs": []
    },
    {
      "cell_type": "code",
      "source": [
        "train_losses = []\n",
        "steps = []\n",
        "# Extract eval_loss and corresponding steps\n",
        "for log_dict in trainer.state.log_history:\n",
        "    if 'loss' in log_dict:\n",
        "        train_losses.append(log_dict['loss'])\n",
        "        steps.append(log_dict['step'])\n",
        "# Create the plot\n",
        "plt.figure(figsize=(10, 6))\n",
        "plt.plot(steps, train_losses, label='Training Loss')\n",
        "# Customize the plot\n",
        "plt.xlabel('Training Steps')\n",
        "plt.ylabel('Loss')\n",
        "plt.title('Training Loss Over Training Steps')\n",
        "plt.legend()\n",
        "plt.grid(True)\n",
        "# Display the plot\n",
        "plt.show()"
      ],
      "metadata": {
        "colab": {
          "base_uri": "https://localhost:8080/",
          "height": 564
        },
        "id": "cOmt1LvAjusp",
        "outputId": "a91a7781-66f2-4e28-8713-9b5ce1a6ece5"
      },
      "execution_count": 180,
      "outputs": [
        {
          "output_type": "display_data",
          "data": {
            "text/plain": [
              "<Figure size 1000x600 with 1 Axes>"
            ],
            "image/png": "[encoded data removed]"
          },
          "metadata": {}
        }
      ]
    },
    {
      "cell_type": "code",
      "source": [
        "# Extract eval_loss and corresponding steps\n",
        "eval_losses = []\n",
        "steps = []\n",
        "\n",
        "for log in trainer.state.log_history:\n",
        "    if 'eval_loss' in log:\n",
        "        eval_losses.append(log['eval_loss'])\n",
        "        steps.append(log['step'])  # Assuming 'step' contains the training step number\n",
        "\n",
        "# Check if we have data to plot\n",
        "if not eval_losses:\n",
        "    print(\"No evaluation losses found.\")\n",
        "else:\n",
        "    # Create the plot\n",
        "    plt.figure(figsize=(10, 6))\n",
        "\n",
        "    # Plot eval_loss against steps\n",
        "    plt.plot(steps, eval_losses, marker='o', label='Validation Loss')\n",
        "\n",
        "    # Customize the plot\n",
        "    plt.xlabel('Training Steps')\n",
        "    plt.ylabel('Loss')\n",
        "    plt.title('Validation Loss Over Training Steps')\n",
        "    plt.legend()\n",
        "    plt.grid(True)\n",
        "\n",
        "    # Display the plot\n",
        "    plt.show()"
      ],
      "metadata": {
        "colab": {
          "base_uri": "https://localhost:8080/",
          "height": 564
        },
        "id": "6p7XY4MD-Dqs",
        "outputId": "f00458fa-f09b-45e8-cd35-4f47a2815349"
      },
      "execution_count": 181,
      "outputs": [
        {
          "output_type": "display_data",
          "data": {
            "text/plain": [
              "<Figure size 1000x600 with 1 Axes>"
            ],
            "image/png": "[encoded data removed]"
          },
          "metadata": {}
        }
      ]
    },
    {
      "cell_type": "code",
      "source": [
        "\n",
        "from sklearn.metrics import confusion_matrix\n",
        "# Now you can make predictions\n",
        "predictions = trainer.predict(small_test_dataset)\n",
        "\n",
        "# Get the predicted labels and true labels\n",
        "predicted_labels = np.argmax(predictions.predictions, axis=1)\n",
        "true_labels =  small_test_dataset['labels']\n",
        "# Calculate the confusion matrix\n",
        "cm = confusion_matrix(true_labels, predicted_labels)\n",
        "print(cm)"
      ],
      "metadata": {
        "colab": {
          "base_uri": "https://localhost:8080/",
          "height": 145
        },
        "id": "1ZrKZIJIs2h0",
        "outputId": "89ec791d-3f0a-4c70-fa8b-6468517f53c3"
      },
      "execution_count": 182,
      "outputs": [
        {
          "output_type": "display_data",
          "data": {
            "text/plain": [
              "<IPython.core.display.HTML object>"
            ],
            "text/html": []
          },
          "metadata": {}
        },
        {
          "output_type": "stream",
          "name": "stdout",
          "text": [
            "[[75  4  0  0  1  0  1]\n",
            " [ 7 51 16  0  4  0  0]\n",
            " [ 0  1 40  1  3  5  2]\n",
            " [ 0  0  3 45  2  0  0]\n",
            " [ 0  0  3  5 68  0  0]\n",
            " [ 0  0  8  2  0 36  0]\n",
            " [ 0  0  0  0  0  0 44]]\n"
          ]
        }
      ]
    },
    {
      "cell_type": "code",
      "source": [
        "from sklearn.metrics import classification_report\n",
        "print(classification_report(true_labels, predicted_labels))"
      ],
      "metadata": {
        "colab": {
          "base_uri": "https://localhost:8080/"
        },
        "id": "tVt45A7CUSJp",
        "outputId": "45450ed3-86cf-4d1b-88e3-57489097abe3"
      },
      "execution_count": 183,
      "outputs": [
        {
          "output_type": "stream",
          "name": "stdout",
          "text": [
            "              precision    recall  f1-score   support\n",
            "\n",
            "           0       0.91      0.93      0.92        81\n",
            "           1       0.91      0.65      0.76        78\n",
            "           2       0.57      0.77      0.66        52\n",
            "           3       0.85      0.90      0.87        50\n",
            "           4       0.87      0.89      0.88        76\n",
            "           5       0.88      0.78      0.83        46\n",
            "           6       0.94      1.00      0.97        44\n",
            "\n",
            "    accuracy                           0.84       427\n",
            "   macro avg       0.85      0.85      0.84       427\n",
            "weighted avg       0.86      0.84      0.84       427\n",
            "\n"
          ]
        }
      ]
    },
    {
      "cell_type": "code",
      "source": [
        "from sklearn.metrics import ConfusionMatrixDisplay\n",
        "disp = ConfusionMatrixDisplay(confusion_matrix=cm)\n",
        "disp.plot()\n",
        "plt.show()"
      ],
      "metadata": {
        "colab": {
          "base_uri": "https://localhost:8080/",
          "height": 449
        },
        "id": "-wU9VkY3t-4x",
        "outputId": "9062c7f3-19be-4d93-bc08-5dc39c6e40b4"
      },
      "execution_count": 185,
      "outputs": [
        {
          "output_type": "display_data",
          "data": {
            "text/plain": [
              "<Figure size 640x480 with 2 Axes>"
            ],
            "image/png": "[encoded data removed]"
          },
          "metadata": {}
        }
      ]
    },
    {
      "cell_type": "code",
      "execution_count": 184,
      "metadata": {
        "id": "ueMmTxw41Ppl",
        "colab": {
          "base_uri": "https://localhost:8080/",
          "height": 201
        },
        "outputId": "e3ab0863-ffcf-468b-ac06-275facc6d46e"
      },
      "outputs": [
        {
          "output_type": "display_data",
          "data": {
            "text/plain": [
              "<IPython.core.display.HTML object>"
            ],
            "text/html": [
              "\n",
              "    <div>\n",
              "      \n",
              "      <progress value='54' max='54' style='width:300px; height:20px; vertical-align: middle;'></progress>\n",
              "      [54/54 00:11]\n",
              "    </div>\n",
              "    "
            ]
          },
          "metadata": {}
        },
        {
          "output_type": "execute_result",
          "data": {
            "text/plain": [
              "{'eval_loss': 0.9660961031913757,\n",
              " 'eval_precision': 0.8550968139646117,\n",
              " 'eval_recall': 0.8407494145199064,\n",
              " 'eval_f1': 0.841770472732164,\n",
              " 'eval_accuracy': 0.8407494145199064,\n",
              " 'eval_runtime': 14.0159,\n",
              " 'eval_samples_per_second': 30.465,\n",
              " 'eval_steps_per_second': 3.853,\n",
              " 'epoch': 10.0}"
            ]
          },
          "metadata": {},
          "execution_count": 184
        }
      ],
      "source": [
        "#overall performance of the fine-tuned BERT model on Amharic new classification\n",
        "trainer.evaluate(small_test_dataset)"
      ]
    },
    {
      "cell_type": "markdown",
      "metadata": {
        "id": "ZxacSQllog4C"
      },
      "source": [
        "# New Section"
      ]
    }
  ],
  "metadata": {
    "colab": {
      "provenance": [],
      "gpuType": "T4",
      "authorship_tag": "ABX9TyMJGhSA0GhMMQV5mSrt9c0k",
      "include_colab_link": true
    },
    "kernelspec": {
      "display_name": "Python 3",
      "name": "python3"
    },
    "language_info": {
      "name": "python"
    },
    "widgets": {
      "application/vnd.jupyter.widget-state+json": {
        "b83b9e8138094fd687a4511fa4062dd9": {
          "model_module": "@jupyter-widgets/controls",
          "model_name": "HBoxModel",
          "model_module_version": "1.5.0",
          "state": {
            "_dom_classes": [],
            "_model_module": "@jupyter-widgets/controls",
            "_model_module_version": "1.5.0",
            "_model_name": "HBoxModel",
            "_view_count": null,
            "_view_module": "@jupyter-widgets/controls",
            "_view_module_version": "1.5.0",
            "_view_name": "HBoxView",
            "box_style": "",
            "children": [
              "IPY_MODEL_3e9451574b884f3488a175cd5101a53b",
              "IPY_MODEL_112262fc0c8c4a00b2c0b5fe1d2a06e1",
              "IPY_MODEL_a52e88ad88f34d678a91039caa42a80b"
            ],
            "layout": "IPY_MODEL_f31d86b481d7460ba3934f8d864c4f9e"
          }
        },
        "3e9451574b884f3488a175cd5101a53b": {
          "model_module": "@jupyter-widgets/controls",
          "model_name": "HTMLModel",
          "model_module_version": "1.5.0",
          "state": {
            "_dom_classes": [],
            "_model_module": "@jupyter-widgets/controls",
            "_model_module_version": "1.5.0",
            "_model_name": "HTMLModel",
            "_view_count": null,
            "_view_module": "@jupyter-widgets/controls",
            "_view_module_version": "1.5.0",
            "_view_name": "HTMLView",
            "description": "",
            "description_tooltip": null,
            "layout": "IPY_MODEL_4c7b82417287462cb80a6770d567d1ec",
            "placeholder": "​",
            "style": "IPY_MODEL_50a11be2197c49ad93cc7cb636e86abb",
            "value": "Map: 100%"
          }
        },
        "112262fc0c8c4a00b2c0b5fe1d2a06e1": {
          "model_module": "@jupyter-widgets/controls",
          "model_name": "FloatProgressModel",
          "model_module_version": "1.5.0",
          "state": {
            "_dom_classes": [],
            "_model_module": "@jupyter-widgets/controls",
            "_model_module_version": "1.5.0",
            "_model_name": "FloatProgressModel",
            "_view_count": null,
            "_view_module": "@jupyter-widgets/controls",
            "_view_module_version": "1.5.0",
            "_view_name": "ProgressView",
            "bar_style": "success",
            "description": "",
            "description_tooltip": null,
            "layout": "IPY_MODEL_eb6f6bc6ea7340cd9577c6964605d985",
            "max": 1754,
            "min": 0,
            "orientation": "horizontal",
            "style": "IPY_MODEL_be615f03b4ae4fe69ce8a8748677cf96",
            "value": 1754
          }
        },
        "a52e88ad88f34d678a91039caa42a80b": {
          "model_module": "@jupyter-widgets/controls",
          "model_name": "HTMLModel",
          "model_module_version": "1.5.0",
          "state": {
            "_dom_classes": [],
            "_model_module": "@jupyter-widgets/controls",
            "_model_module_version": "1.5.0",
            "_model_name": "HTMLModel",
            "_view_count": null,
            "_view_module": "@jupyter-widgets/controls",
            "_view_module_version": "1.5.0",
            "_view_name": "HTMLView",
            "description": "",
            "description_tooltip": null,
            "layout": "IPY_MODEL_56cb31d6208341f0a9997384eac435bb",
            "placeholder": "​",
            "style": "IPY_MODEL_beef4cd453de479caa15fc25c56e4260",
            "value": " 1754/1754 [00:04&lt;00:00, 315.24 examples/s]"
          }
        },
        "f31d86b481d7460ba3934f8d864c4f9e": {
          "model_module": "@jupyter-widgets/base",
          "model_name": "LayoutModel",
          "model_module_version": "1.2.0",
          "state": {
            "_model_module": "@jupyter-widgets/base",
            "_model_module_version": "1.2.0",
            "_model_name": "LayoutModel",
            "_view_count": null,
            "_view_module": "@jupyter-widgets/base",
            "_view_module_version": "1.2.0",
            "_view_name": "LayoutView",
            "align_content": null,
            "align_items": null,
            "align_self": null,
            "border": null,
            "bottom": null,
            "display": null,
            "flex": null,
            "flex_flow": null,
            "grid_area": null,
            "grid_auto_columns": null,
            "grid_auto_flow": null,
            "grid_auto_rows": null,
            "grid_column": null,
            "grid_gap": null,
            "grid_row": null,
            "grid_template_areas": null,
            "grid_template_columns": null,
            "grid_template_rows": null,
            "height": null,
            "justify_content": null,
            "justify_items": null,
            "left": null,
            "margin": null,
            "max_height": null,
            "max_width": null,
            "min_height": null,
            "min_width": null,
            "object_fit": null,
            "object_position": null,
            "order": null,
            "overflow": null,
            "overflow_x": null,
            "overflow_y": null,
            "padding": null,
            "right": null,
            "top": null,
            "visibility": null,
            "width": null
          }
        },
        "4c7b82417287462cb80a6770d567d1ec": {
          "model_module": "@jupyter-widgets/base",
          "model_name": "LayoutModel",
          "model_module_version": "1.2.0",
          "state": {
            "_model_module": "@jupyter-widgets/base",
            "_model_module_version": "1.2.0",
            "_model_name": "LayoutModel",
            "_view_count": null,
            "_view_module": "@jupyter-widgets/base",
            "_view_module_version": "1.2.0",
            "_view_name": "LayoutView",
            "align_content": null,
            "align_items": null,
            "align_self": null,
            "border": null,
            "bottom": null,
            "display": null,
            "flex": null,
            "flex_flow": null,
            "grid_area": null,
            "grid_auto_columns": null,
            "grid_auto_flow": null,
            "grid_auto_rows": null,
            "grid_column": null,
            "grid_gap": null,
            "grid_row": null,
            "grid_template_areas": null,
            "grid_template_columns": null,
            "grid_template_rows": null,
            "height": null,
            "justify_content": null,
            "justify_items": null,
            "left": null,
            "margin": null,
            "max_height": null,
            "max_width": null,
            "min_height": null,
            "min_width": null,
            "object_fit": null,
            "object_position": null,
            "order": null,
            "overflow": null,
            "overflow_x": null,
            "overflow_y": null,
            "padding": null,
            "right": null,
            "top": null,
            "visibility": null,
            "width": null
          }
        },
        "50a11be2197c49ad93cc7cb636e86abb": {
          "model_module": "@jupyter-widgets/controls",
          "model_name": "DescriptionStyleModel",
          "model_module_version": "1.5.0",
          "state": {
            "_model_module": "@jupyter-widgets/controls",
            "_model_module_version": "1.5.0",
            "_model_name": "DescriptionStyleModel",
            "_view_count": null,
            "_view_module": "@jupyter-widgets/base",
            "_view_module_version": "1.2.0",
            "_view_name": "StyleView",
            "description_width": ""
          }
        },
        "eb6f6bc6ea7340cd9577c6964605d985": {
          "model_module": "@jupyter-widgets/base",
          "model_name": "LayoutModel",
          "model_module_version": "1.2.0",
          "state": {
            "_model_module": "@jupyter-widgets/base",
            "_model_module_version": "1.2.0",
            "_model_name": "LayoutModel",
            "_view_count": null,
            "_view_module": "@jupyter-widgets/base",
            "_view_module_version": "1.2.0",
            "_view_name": "LayoutView",
            "align_content": null,
            "align_items": null,
            "align_self": null,
            "border": null,
            "bottom": null,
            "display": null,
            "flex": null,
            "flex_flow": null,
            "grid_area": null,
            "grid_auto_columns": null,
            "grid_auto_flow": null,
            "grid_auto_rows": null,
            "grid_column": null,
            "grid_gap": null,
            "grid_row": null,
            "grid_template_areas": null,
            "grid_template_columns": null,
            "grid_template_rows": null,
            "height": null,
            "justify_content": null,
            "justify_items": null,
            "left": null,
            "margin": null,
            "max_height": null,
            "max_width": null,
            "min_height": null,
            "min_width": null,
            "object_fit": null,
            "object_position": null,
            "order": null,
            "overflow": null,
            "overflow_x": null,
            "overflow_y": null,
            "padding": null,
            "right": null,
            "top": null,
            "visibility": null,
            "width": null
          }
        },
        "be615f03b4ae4fe69ce8a8748677cf96": {
          "model_module": "@jupyter-widgets/controls",
          "model_name": "ProgressStyleModel",
          "model_module_version": "1.5.0",
          "state": {
            "_model_module": "@jupyter-widgets/controls",
            "_model_module_version": "1.5.0",
            "_model_name": "ProgressStyleModel",
            "_view_count": null,
            "_view_module": "@jupyter-widgets/base",
            "_view_module_version": "1.2.0",
            "_view_name": "StyleView",
            "bar_color": null,
            "description_width": ""
          }
        },
        "56cb31d6208341f0a9997384eac435bb": {
          "model_module": "@jupyter-widgets/base",
          "model_name": "LayoutModel",
          "model_module_version": "1.2.0",
          "state": {
            "_model_module": "@jupyter-widgets/base",
            "_model_module_version": "1.2.0",
            "_model_name": "LayoutModel",
            "_view_count": null,
            "_view_module": "@jupyter-widgets/base",
            "_view_module_version": "1.2.0",
            "_view_name": "LayoutView",
            "align_content": null,
            "align_items": null,
            "align_self": null,
            "border": null,
            "bottom": null,
            "display": null,
            "flex": null,
            "flex_flow": null,
            "grid_area": null,
            "grid_auto_columns": null,
            "grid_auto_flow": null,
            "grid_auto_rows": null,
            "grid_column": null,
            "grid_gap": null,
            "grid_row": null,
            "grid_template_areas": null,
            "grid_template_columns": null,
            "grid_template_rows": null,
            "height": null,
            "justify_content": null,
            "justify_items": null,
            "left": null,
            "margin": null,
            "max_height": null,
            "max_width": null,
            "min_height": null,
            "min_width": null,
            "object_fit": null,
            "object_position": null,
            "order": null,
            "overflow": null,
            "overflow_x": null,
            "overflow_y": null,
            "padding": null,
            "right": null,
            "top": null,
            "visibility": null,
            "width": null
          }
        },
        "beef4cd453de479caa15fc25c56e4260": {
          "model_module": "@jupyter-widgets/controls",
          "model_name": "DescriptionStyleModel",
          "model_module_version": "1.5.0",
          "state": {
            "_model_module": "@jupyter-widgets/controls",
            "_model_module_version": "1.5.0",
            "_model_name": "DescriptionStyleModel",
            "_view_count": null,
            "_view_module": "@jupyter-widgets/base",
            "_view_module_version": "1.2.0",
            "_view_name": "StyleView",
            "description_width": ""
          }
        },
        "264f4280d9bb414599f9436cc3f52a92": {
          "model_module": "@jupyter-widgets/controls",
          "model_name": "HBoxModel",
          "model_module_version": "1.5.0",
          "state": {
            "_dom_classes": [],
            "_model_module": "@jupyter-widgets/controls",
            "_model_module_version": "1.5.0",
            "_model_name": "HBoxModel",
            "_view_count": null,
            "_view_module": "@jupyter-widgets/controls",
            "_view_module_version": "1.5.0",
            "_view_name": "HBoxView",
            "box_style": "",
            "children": [
              "IPY_MODEL_a022834cd99f41acbc7eda5cff06355c",
              "IPY_MODEL_54bbe5c960ef4fe2a7c78ed339cb2b32",
              "IPY_MODEL_b8d46b71ea794a389a1c0762e7c4405c"
            ],
            "layout": "IPY_MODEL_7db17c4a1aad426983dfa490eaa44dd7"
          }
        },
        "a022834cd99f41acbc7eda5cff06355c": {
          "model_module": "@jupyter-widgets/controls",
          "model_name": "HTMLModel",
          "model_module_version": "1.5.0",
          "state": {
            "_dom_classes": [],
            "_model_module": "@jupyter-widgets/controls",
            "_model_module_version": "1.5.0",
            "_model_name": "HTMLModel",
            "_view_count": null,
            "_view_module": "@jupyter-widgets/controls",
            "_view_module_version": "1.5.0",
            "_view_name": "HTMLView",
            "description": "",
            "description_tooltip": null,
            "layout": "IPY_MODEL_977378ccc7844e31a772d2910447797d",
            "placeholder": "​",
            "style": "IPY_MODEL_3dbf12db00d142f4af015e8e02b97f30",
            "value": "Map: 100%"
          }
        },
        "54bbe5c960ef4fe2a7c78ed339cb2b32": {
          "model_module": "@jupyter-widgets/controls",
          "model_name": "FloatProgressModel",
          "model_module_version": "1.5.0",
          "state": {
            "_dom_classes": [],
            "_model_module": "@jupyter-widgets/controls",
            "_model_module_version": "1.5.0",
            "_model_name": "FloatProgressModel",
            "_view_count": null,
            "_view_module": "@jupyter-widgets/controls",
            "_view_module_version": "1.5.0",
            "_view_name": "ProgressView",
            "bar_style": "success",
            "description": "",
            "description_tooltip": null,
            "layout": "IPY_MODEL_56ac4763d2be4d77a143aaa6a68d133d",
            "max": 427,
            "min": 0,
            "orientation": "horizontal",
            "style": "IPY_MODEL_24e8736d03134a13b6a105f7c10914d5",
            "value": 427
          }
        },
        "b8d46b71ea794a389a1c0762e7c4405c": {
          "model_module": "@jupyter-widgets/controls",
          "model_name": "HTMLModel",
          "model_module_version": "1.5.0",
          "state": {
            "_dom_classes": [],
            "_model_module": "@jupyter-widgets/controls",
            "_model_module_version": "1.5.0",
            "_model_name": "HTMLModel",
            "_view_count": null,
            "_view_module": "@jupyter-widgets/controls",
            "_view_module_version": "1.5.0",
            "_view_name": "HTMLView",
            "description": "",
            "description_tooltip": null,
            "layout": "IPY_MODEL_409d3fd0df914e31913883e30de82eed",
            "placeholder": "​",
            "style": "IPY_MODEL_7705caa59e6345259cbba367df239788",
            "value": " 427/427 [00:02&lt;00:00, 174.01 examples/s]"
          }
        },
        "7db17c4a1aad426983dfa490eaa44dd7": {
          "model_module": "@jupyter-widgets/base",
          "model_name": "LayoutModel",
          "model_module_version": "1.2.0",
          "state": {
            "_model_module": "@jupyter-widgets/base",
            "_model_module_version": "1.2.0",
            "_model_name": "LayoutModel",
            "_view_count": null,
            "_view_module": "@jupyter-widgets/base",
            "_view_module_version": "1.2.0",
            "_view_name": "LayoutView",
            "align_content": null,
            "align_items": null,
            "align_self": null,
            "border": null,
            "bottom": null,
            "display": null,
            "flex": null,
            "flex_flow": null,
            "grid_area": null,
            "grid_auto_columns": null,
            "grid_auto_flow": null,
            "grid_auto_rows": null,
            "grid_column": null,
            "grid_gap": null,
            "grid_row": null,
            "grid_template_areas": null,
            "grid_template_columns": null,
            "grid_template_rows": null,
            "height": null,
            "justify_content": null,
            "justify_items": null,
            "left": null,
            "margin": null,
            "max_height": null,
            "max_width": null,
            "min_height": null,
            "min_width": null,
            "object_fit": null,
            "object_position": null,
            "order": null,
            "overflow": null,
            "overflow_x": null,
            "overflow_y": null,
            "padding": null,
            "right": null,
            "top": null,
            "visibility": null,
            "width": null
          }
        },
        "977378ccc7844e31a772d2910447797d": {
          "model_module": "@jupyter-widgets/base",
          "model_name": "LayoutModel",
          "model_module_version": "1.2.0",
          "state": {
            "_model_module": "@jupyter-widgets/base",
            "_model_module_version": "1.2.0",
            "_model_name": "LayoutModel",
            "_view_count": null,
            "_view_module": "@jupyter-widgets/base",
            "_view_module_version": "1.2.0",
            "_view_name": "LayoutView",
            "align_content": null,
            "align_items": null,
            "align_self": null,
            "border": null,
            "bottom": null,
            "display": null,
            "flex": null,
            "flex_flow": null,
            "grid_area": null,
            "grid_auto_columns": null,
            "grid_auto_flow": null,
            "grid_auto_rows": null,
            "grid_column": null,
            "grid_gap": null,
            "grid_row": null,
            "grid_template_areas": null,
            "grid_template_columns": null,
            "grid_template_rows": null,
            "height": null,
            "justify_content": null,
            "justify_items": null,
            "left": null,
            "margin": null,
            "max_height": null,
            "max_width": null,
            "min_height": null,
            "min_width": null,
            "object_fit": null,
            "object_position": null,
            "order": null,
            "overflow": null,
            "overflow_x": null,
            "overflow_y": null,
            "padding": null,
            "right": null,
            "top": null,
            "visibility": null,
            "width": null
          }
        },
        "3dbf12db00d142f4af015e8e02b97f30": {
          "model_module": "@jupyter-widgets/controls",
          "model_name": "DescriptionStyleModel",
          "model_module_version": "1.5.0",
          "state": {
            "_model_module": "@jupyter-widgets/controls",
            "_model_module_version": "1.5.0",
            "_model_name": "DescriptionStyleModel",
            "_view_count": null,
            "_view_module": "@jupyter-widgets/base",
            "_view_module_version": "1.2.0",
            "_view_name": "StyleView",
            "description_width": ""
          }
        },
        "56ac4763d2be4d77a143aaa6a68d133d": {
          "model_module": "@jupyter-widgets/base",
          "model_name": "LayoutModel",
          "model_module_version": "1.2.0",
          "state": {
            "_model_module": "@jupyter-widgets/base",
            "_model_module_version": "1.2.0",
            "_model_name": "LayoutModel",
            "_view_count": null,
            "_view_module": "@jupyter-widgets/base",
            "_view_module_version": "1.2.0",
            "_view_name": "LayoutView",
            "align_content": null,
            "align_items": null,
            "align_self": null,
            "border": null,
            "bottom": null,
            "display": null,
            "flex": null,
            "flex_flow": null,
            "grid_area": null,
            "grid_auto_columns": null,
            "grid_auto_flow": null,
            "grid_auto_rows": null,
            "grid_column": null,
            "grid_gap": null,
            "grid_row": null,
            "grid_template_areas": null,
            "grid_template_columns": null,
            "grid_template_rows": null,
            "height": null,
            "justify_content": null,
            "justify_items": null,
            "left": null,
            "margin": null,
            "max_height": null,
            "max_width": null,
            "min_height": null,
            "min_width": null,
            "object_fit": null,
            "object_position": null,
            "order": null,
            "overflow": null,
            "overflow_x": null,
            "overflow_y": null,
            "padding": null,
            "right": null,
            "top": null,
            "visibility": null,
            "width": null
          }
        },
        "24e8736d03134a13b6a105f7c10914d5": {
          "model_module": "@jupyter-widgets/controls",
          "model_name": "ProgressStyleModel",
          "model_module_version": "1.5.0",
          "state": {
            "_model_module": "@jupyter-widgets/controls",
            "_model_module_version": "1.5.0",
            "_model_name": "ProgressStyleModel",
            "_view_count": null,
            "_view_module": "@jupyter-widgets/base",
            "_view_module_version": "1.2.0",
            "_view_name": "StyleView",
            "bar_color": null,
            "description_width": ""
          }
        },
        "409d3fd0df914e31913883e30de82eed": {
          "model_module": "@jupyter-widgets/base",
          "model_name": "LayoutModel",
          "model_module_version": "1.2.0",
          "state": {
            "_model_module": "@jupyter-widgets/base",
            "_model_module_version": "1.2.0",
            "_model_name": "LayoutModel",
            "_view_count": null,
            "_view_module": "@jupyter-widgets/base",
            "_view_module_version": "1.2.0",
            "_view_name": "LayoutView",
            "align_content": null,
            "align_items": null,
            "align_self": null,
            "border": null,
            "bottom": null,
            "display": null,
            "flex": null,
            "flex_flow": null,
            "grid_area": null,
            "grid_auto_columns": null,
            "grid_auto_flow": null,
            "grid_auto_rows": null,
            "grid_column": null,
            "grid_gap": null,
            "grid_row": null,
            "grid_template_areas": null,
            "grid_template_columns": null,
            "grid_template_rows": null,
            "height": null,
            "justify_content": null,
            "justify_items": null,
            "left": null,
            "margin": null,
            "max_height": null,
            "max_width": null,
            "min_height": null,
            "min_width": null,
            "object_fit": null,
            "object_position": null,
            "order": null,
            "overflow": null,
            "overflow_x": null,
            "overflow_y": null,
            "padding": null,
            "right": null,
            "top": null,
            "visibility": null,
            "width": null
          }
        },
        "7705caa59e6345259cbba367df239788": {
          "model_module": "@jupyter-widgets/controls",
          "model_name": "DescriptionStyleModel",
          "model_module_version": "1.5.0",
          "state": {
            "_model_module": "@jupyter-widgets/controls",
            "_model_module_version": "1.5.0",
            "_model_name": "DescriptionStyleModel",
            "_view_count": null,
            "_view_module": "@jupyter-widgets/base",
            "_view_module_version": "1.2.0",
            "_view_name": "StyleView",
            "description_width": ""
          }
        },
        "3fb348910caa45e09be5b9b96caed062": {
          "model_module": "@jupyter-widgets/controls",
          "model_name": "HBoxModel",
          "model_module_version": "1.5.0",
          "state": {
            "_dom_classes": [],
            "_model_module": "@jupyter-widgets/controls",
            "_model_module_version": "1.5.0",
            "_model_name": "HBoxModel",
            "_view_count": null,
            "_view_module": "@jupyter-widgets/controls",
            "_view_module_version": "1.5.0",
            "_view_name": "HBoxView",
            "box_style": "",
            "children": [
              "IPY_MODEL_0246bfbb6fdb4f458630939404851df0",
              "IPY_MODEL_a778e06034af4a2683ae46f325f619e4",
              "IPY_MODEL_4521deb31a414692aac5e2c12b721f8c"
            ],
            "layout": "IPY_MODEL_fe18b2df49ae403d99a305360c553384"
          }
        },
        "0246bfbb6fdb4f458630939404851df0": {
          "model_module": "@jupyter-widgets/controls",
          "model_name": "HTMLModel",
          "model_module_version": "1.5.0",
          "state": {
            "_dom_classes": [],
            "_model_module": "@jupyter-widgets/controls",
            "_model_module_version": "1.5.0",
            "_model_name": "HTMLModel",
            "_view_count": null,
            "_view_module": "@jupyter-widgets/controls",
            "_view_module_version": "1.5.0",
            "_view_name": "HTMLView",
            "description": "",
            "description_tooltip": null,
            "layout": "IPY_MODEL_9b13c9a8d95541afb163e9b757268bff",
            "placeholder": "​",
            "style": "IPY_MODEL_629696005478431c81c5d81444ac3ea3",
            "value": "Map: 100%"
          }
        },
        "a778e06034af4a2683ae46f325f619e4": {
          "model_module": "@jupyter-widgets/controls",
          "model_name": "FloatProgressModel",
          "model_module_version": "1.5.0",
          "state": {
            "_dom_classes": [],
            "_model_module": "@jupyter-widgets/controls",
            "_model_module_version": "1.5.0",
            "_model_name": "FloatProgressModel",
            "_view_count": null,
            "_view_module": "@jupyter-widgets/controls",
            "_view_module_version": "1.5.0",
            "_view_name": "ProgressView",
            "bar_style": "success",
            "description": "",
            "description_tooltip": null,
            "layout": "IPY_MODEL_01fad56fedb447e292e0c53af800acad",
            "max": 175,
            "min": 0,
            "orientation": "horizontal",
            "style": "IPY_MODEL_556467cfb2634d008870763842717297",
            "value": 175
          }
        },
        "4521deb31a414692aac5e2c12b721f8c": {
          "model_module": "@jupyter-widgets/controls",
          "model_name": "HTMLModel",
          "model_module_version": "1.5.0",
          "state": {
            "_dom_classes": [],
            "_model_module": "@jupyter-widgets/controls",
            "_model_module_version": "1.5.0",
            "_model_name": "HTMLModel",
            "_view_count": null,
            "_view_module": "@jupyter-widgets/controls",
            "_view_module_version": "1.5.0",
            "_view_name": "HTMLView",
            "description": "",
            "description_tooltip": null,
            "layout": "IPY_MODEL_03d4640da5ec4430a53c8d2bcd054a6c",
            "placeholder": "​",
            "style": "IPY_MODEL_71f8ad4b521c40eeb59f5252c6c240d1",
            "value": " 175/175 [00:00&lt;00:00, 248.05 examples/s]"
          }
        },
        "fe18b2df49ae403d99a305360c553384": {
          "model_module": "@jupyter-widgets/base",
          "model_name": "LayoutModel",
          "model_module_version": "1.2.0",
          "state": {
            "_model_module": "@jupyter-widgets/base",
            "_model_module_version": "1.2.0",
            "_model_name": "LayoutModel",
            "_view_count": null,
            "_view_module": "@jupyter-widgets/base",
            "_view_module_version": "1.2.0",
            "_view_name": "LayoutView",
            "align_content": null,
            "align_items": null,
            "align_self": null,
            "border": null,
            "bottom": null,
            "display": null,
            "flex": null,
            "flex_flow": null,
            "grid_area": null,
            "grid_auto_columns": null,
            "grid_auto_flow": null,
            "grid_auto_rows": null,
            "grid_column": null,
            "grid_gap": null,
            "grid_row": null,
            "grid_template_areas": null,
            "grid_template_columns": null,
            "grid_template_rows": null,
            "height": null,
            "justify_content": null,
            "justify_items": null,
            "left": null,
            "margin": null,
            "max_height": null,
            "max_width": null,
            "min_height": null,
            "min_width": null,
            "object_fit": null,
            "object_position": null,
            "order": null,
            "overflow": null,
            "overflow_x": null,
            "overflow_y": null,
            "padding": null,
            "right": null,
            "top": null,
            "visibility": null,
            "width": null
          }
        },
        "9b13c9a8d95541afb163e9b757268bff": {
          "model_module": "@jupyter-widgets/base",
          "model_name": "LayoutModel",
          "model_module_version": "1.2.0",
          "state": {
            "_model_module": "@jupyter-widgets/base",
            "_model_module_version": "1.2.0",
            "_model_name": "LayoutModel",
            "_view_count": null,
            "_view_module": "@jupyter-widgets/base",
            "_view_module_version": "1.2.0",
            "_view_name": "LayoutView",
            "align_content": null,
            "align_items": null,
            "align_self": null,
            "border": null,
            "bottom": null,
            "display": null,
            "flex": null,
            "flex_flow": null,
            "grid_area": null,
            "grid_auto_columns": null,
            "grid_auto_flow": null,
            "grid_auto_rows": null,
            "grid_column": null,
            "grid_gap": null,
            "grid_row": null,
            "grid_template_areas": null,
            "grid_template_columns": null,
            "grid_template_rows": null,
            "height": null,
            "justify_content": null,
            "justify_items": null,
            "left": null,
            "margin": null,
            "max_height": null,
            "max_width": null,
            "min_height": null,
            "min_width": null,
            "object_fit": null,
            "object_position": null,
            "order": null,
            "overflow": null,
            "overflow_x": null,
            "overflow_y": null,
            "padding": null,
            "right": null,
            "top": null,
            "visibility": null,
            "width": null
          }
        },
        "629696005478431c81c5d81444ac3ea3": {
          "model_module": "@jupyter-widgets/controls",
          "model_name": "DescriptionStyleModel",
          "model_module_version": "1.5.0",
          "state": {
            "_model_module": "@jupyter-widgets/controls",
            "_model_module_version": "1.5.0",
            "_model_name": "DescriptionStyleModel",
            "_view_count": null,
            "_view_module": "@jupyter-widgets/base",
            "_view_module_version": "1.2.0",
            "_view_name": "StyleView",
            "description_width": ""
          }
        },
        "01fad56fedb447e292e0c53af800acad": {
          "model_module": "@jupyter-widgets/base",
          "model_name": "LayoutModel",
          "model_module_version": "1.2.0",
          "state": {
            "_model_module": "@jupyter-widgets/base",
            "_model_module_version": "1.2.0",
            "_model_name": "LayoutModel",
            "_view_count": null,
            "_view_module": "@jupyter-widgets/base",
            "_view_module_version": "1.2.0",
            "_view_name": "LayoutView",
            "align_content": null,
            "align_items": null,
            "align_self": null,
            "border": null,
            "bottom": null,
            "display": null,
            "flex": null,
            "flex_flow": null,
            "grid_area": null,
            "grid_auto_columns": null,
            "grid_auto_flow": null,
            "grid_auto_rows": null,
            "grid_column": null,
            "grid_gap": null,
            "grid_row": null,
            "grid_template_areas": null,
            "grid_template_columns": null,
            "grid_template_rows": null,
            "height": null,
            "justify_content": null,
            "justify_items": null,
            "left": null,
            "margin": null,
            "max_height": null,
            "max_width": null,
            "min_height": null,
            "min_width": null,
            "object_fit": null,
            "object_position": null,
            "order": null,
            "overflow": null,
            "overflow_x": null,
            "overflow_y": null,
            "padding": null,
            "right": null,
            "top": null,
            "visibility": null,
            "width": null
          }
        },
        "556467cfb2634d008870763842717297": {
          "model_module": "@jupyter-widgets/controls",
          "model_name": "ProgressStyleModel",
          "model_module_version": "1.5.0",
          "state": {
            "_model_module": "@jupyter-widgets/controls",
            "_model_module_version": "1.5.0",
            "_model_name": "ProgressStyleModel",
            "_view_count": null,
            "_view_module": "@jupyter-widgets/base",
            "_view_module_version": "1.2.0",
            "_view_name": "StyleView",
            "bar_color": null,
            "description_width": ""
          }
        },
        "03d4640da5ec4430a53c8d2bcd054a6c": {
          "model_module": "@jupyter-widgets/base",
          "model_name": "LayoutModel",
          "model_module_version": "1.2.0",
          "state": {
            "_model_module": "@jupyter-widgets/base",
            "_model_module_version": "1.2.0",
            "_model_name": "LayoutModel",
            "_view_count": null,
            "_view_module": "@jupyter-widgets/base",
            "_view_module_version": "1.2.0",
            "_view_name": "LayoutView",
            "align_content": null,
            "align_items": null,
            "align_self": null,
            "border": null,
            "bottom": null,
            "display": null,
            "flex": null,
            "flex_flow": null,
            "grid_area": null,
            "grid_auto_columns": null,
            "grid_auto_flow": null,
            "grid_auto_rows": null,
            "grid_column": null,
            "grid_gap": null,
            "grid_row": null,
            "grid_template_areas": null,
            "grid_template_columns": null,
            "grid_template_rows": null,
            "height": null,
            "justify_content": null,
            "justify_items": null,
            "left": null,
            "margin": null,
            "max_height": null,
            "max_width": null,
            "min_height": null,
            "min_width": null,
            "object_fit": null,
            "object_position": null,
            "order": null,
            "overflow": null,
            "overflow_x": null,
            "overflow_y": null,
            "padding": null,
            "right": null,
            "top": null,
            "visibility": null,
            "width": null
          }
        },
        "71f8ad4b521c40eeb59f5252c6c240d1": {
          "model_module": "@jupyter-widgets/controls",
          "model_name": "DescriptionStyleModel",
          "model_module_version": "1.5.0",
          "state": {
            "_model_module": "@jupyter-widgets/controls",
            "_model_module_version": "1.5.0",
            "_model_name": "DescriptionStyleModel",
            "_view_count": null,
            "_view_module": "@jupyter-widgets/base",
            "_view_module_version": "1.2.0",
            "_view_name": "StyleView",
            "description_width": ""
          }
        }
      }
    },
    "accelerator": "GPU"
  },
  "nbformat": 4,
  "nbformat_minor": 0
}